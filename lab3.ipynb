{
 "cells": [
  {
   "cell_type": "code",
   "execution_count": 10,
   "metadata": {},
   "outputs": [],
   "source": [
    "import pandas as pd\n",
    "import numpy as np\n",
    "\n",
    "from tqdm.notebook import tqdm"
   ]
  },
  {
   "attachments": {},
   "cell_type": "markdown",
   "metadata": {},
   "source": [
    "# Part 1"
   ]
  },
  {
   "cell_type": "code",
   "execution_count": 11,
   "metadata": {},
   "outputs": [],
   "source": [
    "data_part_1 = pd.read_csv(\"in.csv\")\n",
    "data_part_1 = data_part_1[data_part_1[\"capital\"] == \"admin\"].reset_index().drop(columns=\"index\")"
   ]
  },
  {
   "cell_type": "code",
   "execution_count": 12,
   "metadata": {},
   "outputs": [
    {
     "data": {
      "application/vnd.plotly.v1+json": {
       "config": {
        "plotlyServerURL": "https://plot.ly"
       },
       "data": [
        {
         "hovertemplate": "<b>%{hovertext}</b><br><br>population=%{marker.color}<br>city=%{text}<br>lat=%{lat}<br>lng=%{lon}<extra></extra>",
         "hovertext": [
          "Delhi",
          "Mumbai",
          "Kolkāta",
          "Bangalore",
          "Chennai",
          "Hyderābād",
          "Lucknow",
          "Jaipur",
          "Bhopāl",
          "Patna",
          "Srīnagar",
          "Rānchi",
          "Chandīgarh",
          "Raipur",
          "Dispur",
          "Bhubaneshwar",
          "Thiruvananthapuram",
          "Dehra Dūn",
          "Agartala",
          "Āīzawl",
          "Imphāl",
          "Puducherry",
          "Shimla",
          "Ghāndīnagar",
          "Shillong",
          "Port Blair",
          "Gangtok",
          "Kohīma",
          "Itānagar",
          "Panaji",
          "Damān",
          "Kavaratti"
         ],
         "lat": [
          28.66,
          18.9667,
          22.5411,
          12.9699,
          13.0825,
          17.3667,
          26.847,
          26.9167,
          23.25,
          25.61,
          34.0911,
          23.3556,
          30.7353,
          21.2379,
          26.15,
          20.2644,
          8.5,
          30.318,
          23.8333,
          23.7104,
          24.82,
          11.93,
          31.1033,
          23.22,
          25.5744,
          11.6667,
          27.33,
          25.6667,
          27.1,
          15.48,
          20.417,
          10.5626
         ],
         "legendgroup": "",
         "lon": [
          77.23,
          72.8333,
          88.3378,
          77.598,
          80.275,
          78.4667,
          80.947,
          75.8667,
          77.4167,
          85.1414,
          74.8061,
          85.3347,
          76.7911,
          81.6337,
          91.77,
          85.8281,
          76.8997,
          78.029,
          91.2667,
          92.72,
          93.95,
          79.83,
          77.1722,
          72.68,
          91.8789,
          92.75,
          88.62,
          94.1194,
          93.62,
          73.83,
          72.85,
          72.6369
         ],
         "marker": {
          "color": [
           29617000,
           23355000,
           17560000,
           13707000,
           11324000,
           9746000,
           3382000,
           3073350,
           1883381,
           1684222,
           1180570,
           1073440,
           1026459,
           1010087,
           957352,
           837737,
           743691,
           578420,
           522613,
           283021,
           268243,
           227411,
           206575,
           195891,
           143229,
           127562,
           100286,
           99039,
           59490,
           40017,
           39737,
           10688
          ],
          "coloraxis": "coloraxis",
          "size": [
           29617000,
           23355000,
           17560000,
           13707000,
           11324000,
           9746000,
           3382000,
           3073350,
           1883381,
           1684222,
           1180570,
           1073440,
           1026459,
           1010087,
           957352,
           837737,
           743691,
           578420,
           522613,
           283021,
           268243,
           227411,
           206575,
           195891,
           143229,
           127562,
           100286,
           99039,
           59490,
           40017,
           39737,
           10688
          ],
          "sizemode": "area",
          "sizeref": 5265.2444444444445
         },
         "mode": "markers+text",
         "name": "",
         "showlegend": false,
         "subplot": "mapbox",
         "text": [
          "Delhi",
          "Mumbai",
          "Kolkāta",
          "Bangalore",
          "Chennai",
          "Hyderābād",
          "Lucknow",
          "Jaipur",
          "Bhopāl",
          "Patna",
          "Srīnagar",
          "Rānchi",
          "Chandīgarh",
          "Raipur",
          "Dispur",
          "Bhubaneshwar",
          "Thiruvananthapuram",
          "Dehra Dūn",
          "Agartala",
          "Āīzawl",
          "Imphāl",
          "Puducherry",
          "Shimla",
          "Ghāndīnagar",
          "Shillong",
          "Port Blair",
          "Gangtok",
          "Kohīma",
          "Itānagar",
          "Panaji",
          "Damān",
          "Kavaratti"
         ],
         "type": "scattermapbox"
        }
       ],
       "layout": {
        "coloraxis": {
         "colorbar": {
          "title": {
           "text": "population"
          }
         },
         "colorscale": [
          [
           0,
           "#0d0887"
          ],
          [
           0.1111111111111111,
           "#46039f"
          ],
          [
           0.2222222222222222,
           "#7201a8"
          ],
          [
           0.3333333333333333,
           "#9c179e"
          ],
          [
           0.4444444444444444,
           "#bd3786"
          ],
          [
           0.5555555555555556,
           "#d8576b"
          ],
          [
           0.6666666666666666,
           "#ed7953"
          ],
          [
           0.7777777777777778,
           "#fb9f3a"
          ],
          [
           0.8888888888888888,
           "#fdca26"
          ],
          [
           1,
           "#f0f921"
          ]
         ]
        },
        "height": 850,
        "legend": {
         "itemsizing": "constant",
         "tracegroupgap": 0
        },
        "mapbox": {
         "center": {
          "lat": 22,
          "lon": 82
         },
         "domain": {
          "x": [
           0,
           1
          ],
          "y": [
           0,
           1
          ]
         },
         "style": "carto-positron",
         "zoom": 3.8
        },
        "template": {
         "data": {
          "bar": [
           {
            "error_x": {
             "color": "#2a3f5f"
            },
            "error_y": {
             "color": "#2a3f5f"
            },
            "marker": {
             "line": {
              "color": "#E5ECF6",
              "width": 0.5
             },
             "pattern": {
              "fillmode": "overlay",
              "size": 10,
              "solidity": 0.2
             }
            },
            "type": "bar"
           }
          ],
          "barpolar": [
           {
            "marker": {
             "line": {
              "color": "#E5ECF6",
              "width": 0.5
             },
             "pattern": {
              "fillmode": "overlay",
              "size": 10,
              "solidity": 0.2
             }
            },
            "type": "barpolar"
           }
          ],
          "carpet": [
           {
            "aaxis": {
             "endlinecolor": "#2a3f5f",
             "gridcolor": "white",
             "linecolor": "white",
             "minorgridcolor": "white",
             "startlinecolor": "#2a3f5f"
            },
            "baxis": {
             "endlinecolor": "#2a3f5f",
             "gridcolor": "white",
             "linecolor": "white",
             "minorgridcolor": "white",
             "startlinecolor": "#2a3f5f"
            },
            "type": "carpet"
           }
          ],
          "choropleth": [
           {
            "colorbar": {
             "outlinewidth": 0,
             "ticks": ""
            },
            "type": "choropleth"
           }
          ],
          "contour": [
           {
            "colorbar": {
             "outlinewidth": 0,
             "ticks": ""
            },
            "colorscale": [
             [
              0,
              "#0d0887"
             ],
             [
              0.1111111111111111,
              "#46039f"
             ],
             [
              0.2222222222222222,
              "#7201a8"
             ],
             [
              0.3333333333333333,
              "#9c179e"
             ],
             [
              0.4444444444444444,
              "#bd3786"
             ],
             [
              0.5555555555555556,
              "#d8576b"
             ],
             [
              0.6666666666666666,
              "#ed7953"
             ],
             [
              0.7777777777777778,
              "#fb9f3a"
             ],
             [
              0.8888888888888888,
              "#fdca26"
             ],
             [
              1,
              "#f0f921"
             ]
            ],
            "type": "contour"
           }
          ],
          "contourcarpet": [
           {
            "colorbar": {
             "outlinewidth": 0,
             "ticks": ""
            },
            "type": "contourcarpet"
           }
          ],
          "heatmap": [
           {
            "colorbar": {
             "outlinewidth": 0,
             "ticks": ""
            },
            "colorscale": [
             [
              0,
              "#0d0887"
             ],
             [
              0.1111111111111111,
              "#46039f"
             ],
             [
              0.2222222222222222,
              "#7201a8"
             ],
             [
              0.3333333333333333,
              "#9c179e"
             ],
             [
              0.4444444444444444,
              "#bd3786"
             ],
             [
              0.5555555555555556,
              "#d8576b"
             ],
             [
              0.6666666666666666,
              "#ed7953"
             ],
             [
              0.7777777777777778,
              "#fb9f3a"
             ],
             [
              0.8888888888888888,
              "#fdca26"
             ],
             [
              1,
              "#f0f921"
             ]
            ],
            "type": "heatmap"
           }
          ],
          "heatmapgl": [
           {
            "colorbar": {
             "outlinewidth": 0,
             "ticks": ""
            },
            "colorscale": [
             [
              0,
              "#0d0887"
             ],
             [
              0.1111111111111111,
              "#46039f"
             ],
             [
              0.2222222222222222,
              "#7201a8"
             ],
             [
              0.3333333333333333,
              "#9c179e"
             ],
             [
              0.4444444444444444,
              "#bd3786"
             ],
             [
              0.5555555555555556,
              "#d8576b"
             ],
             [
              0.6666666666666666,
              "#ed7953"
             ],
             [
              0.7777777777777778,
              "#fb9f3a"
             ],
             [
              0.8888888888888888,
              "#fdca26"
             ],
             [
              1,
              "#f0f921"
             ]
            ],
            "type": "heatmapgl"
           }
          ],
          "histogram": [
           {
            "marker": {
             "pattern": {
              "fillmode": "overlay",
              "size": 10,
              "solidity": 0.2
             }
            },
            "type": "histogram"
           }
          ],
          "histogram2d": [
           {
            "colorbar": {
             "outlinewidth": 0,
             "ticks": ""
            },
            "colorscale": [
             [
              0,
              "#0d0887"
             ],
             [
              0.1111111111111111,
              "#46039f"
             ],
             [
              0.2222222222222222,
              "#7201a8"
             ],
             [
              0.3333333333333333,
              "#9c179e"
             ],
             [
              0.4444444444444444,
              "#bd3786"
             ],
             [
              0.5555555555555556,
              "#d8576b"
             ],
             [
              0.6666666666666666,
              "#ed7953"
             ],
             [
              0.7777777777777778,
              "#fb9f3a"
             ],
             [
              0.8888888888888888,
              "#fdca26"
             ],
             [
              1,
              "#f0f921"
             ]
            ],
            "type": "histogram2d"
           }
          ],
          "histogram2dcontour": [
           {
            "colorbar": {
             "outlinewidth": 0,
             "ticks": ""
            },
            "colorscale": [
             [
              0,
              "#0d0887"
             ],
             [
              0.1111111111111111,
              "#46039f"
             ],
             [
              0.2222222222222222,
              "#7201a8"
             ],
             [
              0.3333333333333333,
              "#9c179e"
             ],
             [
              0.4444444444444444,
              "#bd3786"
             ],
             [
              0.5555555555555556,
              "#d8576b"
             ],
             [
              0.6666666666666666,
              "#ed7953"
             ],
             [
              0.7777777777777778,
              "#fb9f3a"
             ],
             [
              0.8888888888888888,
              "#fdca26"
             ],
             [
              1,
              "#f0f921"
             ]
            ],
            "type": "histogram2dcontour"
           }
          ],
          "mesh3d": [
           {
            "colorbar": {
             "outlinewidth": 0,
             "ticks": ""
            },
            "type": "mesh3d"
           }
          ],
          "parcoords": [
           {
            "line": {
             "colorbar": {
              "outlinewidth": 0,
              "ticks": ""
             }
            },
            "type": "parcoords"
           }
          ],
          "pie": [
           {
            "automargin": true,
            "type": "pie"
           }
          ],
          "scatter": [
           {
            "fillpattern": {
             "fillmode": "overlay",
             "size": 10,
             "solidity": 0.2
            },
            "type": "scatter"
           }
          ],
          "scatter3d": [
           {
            "line": {
             "colorbar": {
              "outlinewidth": 0,
              "ticks": ""
             }
            },
            "marker": {
             "colorbar": {
              "outlinewidth": 0,
              "ticks": ""
             }
            },
            "type": "scatter3d"
           }
          ],
          "scattercarpet": [
           {
            "marker": {
             "colorbar": {
              "outlinewidth": 0,
              "ticks": ""
             }
            },
            "type": "scattercarpet"
           }
          ],
          "scattergeo": [
           {
            "marker": {
             "colorbar": {
              "outlinewidth": 0,
              "ticks": ""
             }
            },
            "type": "scattergeo"
           }
          ],
          "scattergl": [
           {
            "marker": {
             "colorbar": {
              "outlinewidth": 0,
              "ticks": ""
             }
            },
            "type": "scattergl"
           }
          ],
          "scattermapbox": [
           {
            "marker": {
             "colorbar": {
              "outlinewidth": 0,
              "ticks": ""
             }
            },
            "type": "scattermapbox"
           }
          ],
          "scatterpolar": [
           {
            "marker": {
             "colorbar": {
              "outlinewidth": 0,
              "ticks": ""
             }
            },
            "type": "scatterpolar"
           }
          ],
          "scatterpolargl": [
           {
            "marker": {
             "colorbar": {
              "outlinewidth": 0,
              "ticks": ""
             }
            },
            "type": "scatterpolargl"
           }
          ],
          "scatterternary": [
           {
            "marker": {
             "colorbar": {
              "outlinewidth": 0,
              "ticks": ""
             }
            },
            "type": "scatterternary"
           }
          ],
          "surface": [
           {
            "colorbar": {
             "outlinewidth": 0,
             "ticks": ""
            },
            "colorscale": [
             [
              0,
              "#0d0887"
             ],
             [
              0.1111111111111111,
              "#46039f"
             ],
             [
              0.2222222222222222,
              "#7201a8"
             ],
             [
              0.3333333333333333,
              "#9c179e"
             ],
             [
              0.4444444444444444,
              "#bd3786"
             ],
             [
              0.5555555555555556,
              "#d8576b"
             ],
             [
              0.6666666666666666,
              "#ed7953"
             ],
             [
              0.7777777777777778,
              "#fb9f3a"
             ],
             [
              0.8888888888888888,
              "#fdca26"
             ],
             [
              1,
              "#f0f921"
             ]
            ],
            "type": "surface"
           }
          ],
          "table": [
           {
            "cells": {
             "fill": {
              "color": "#EBF0F8"
             },
             "line": {
              "color": "white"
             }
            },
            "header": {
             "fill": {
              "color": "#C8D4E3"
             },
             "line": {
              "color": "white"
             }
            },
            "type": "table"
           }
          ]
         },
         "layout": {
          "annotationdefaults": {
           "arrowcolor": "#2a3f5f",
           "arrowhead": 0,
           "arrowwidth": 1
          },
          "autotypenumbers": "strict",
          "coloraxis": {
           "colorbar": {
            "outlinewidth": 0,
            "ticks": ""
           }
          },
          "colorscale": {
           "diverging": [
            [
             0,
             "#8e0152"
            ],
            [
             0.1,
             "#c51b7d"
            ],
            [
             0.2,
             "#de77ae"
            ],
            [
             0.3,
             "#f1b6da"
            ],
            [
             0.4,
             "#fde0ef"
            ],
            [
             0.5,
             "#f7f7f7"
            ],
            [
             0.6,
             "#e6f5d0"
            ],
            [
             0.7,
             "#b8e186"
            ],
            [
             0.8,
             "#7fbc41"
            ],
            [
             0.9,
             "#4d9221"
            ],
            [
             1,
             "#276419"
            ]
           ],
           "sequential": [
            [
             0,
             "#0d0887"
            ],
            [
             0.1111111111111111,
             "#46039f"
            ],
            [
             0.2222222222222222,
             "#7201a8"
            ],
            [
             0.3333333333333333,
             "#9c179e"
            ],
            [
             0.4444444444444444,
             "#bd3786"
            ],
            [
             0.5555555555555556,
             "#d8576b"
            ],
            [
             0.6666666666666666,
             "#ed7953"
            ],
            [
             0.7777777777777778,
             "#fb9f3a"
            ],
            [
             0.8888888888888888,
             "#fdca26"
            ],
            [
             1,
             "#f0f921"
            ]
           ],
           "sequentialminus": [
            [
             0,
             "#0d0887"
            ],
            [
             0.1111111111111111,
             "#46039f"
            ],
            [
             0.2222222222222222,
             "#7201a8"
            ],
            [
             0.3333333333333333,
             "#9c179e"
            ],
            [
             0.4444444444444444,
             "#bd3786"
            ],
            [
             0.5555555555555556,
             "#d8576b"
            ],
            [
             0.6666666666666666,
             "#ed7953"
            ],
            [
             0.7777777777777778,
             "#fb9f3a"
            ],
            [
             0.8888888888888888,
             "#fdca26"
            ],
            [
             1,
             "#f0f921"
            ]
           ]
          },
          "colorway": [
           "#636efa",
           "#EF553B",
           "#00cc96",
           "#ab63fa",
           "#FFA15A",
           "#19d3f3",
           "#FF6692",
           "#B6E880",
           "#FF97FF",
           "#FECB52"
          ],
          "font": {
           "color": "#2a3f5f"
          },
          "geo": {
           "bgcolor": "white",
           "lakecolor": "white",
           "landcolor": "#E5ECF6",
           "showlakes": true,
           "showland": true,
           "subunitcolor": "white"
          },
          "hoverlabel": {
           "align": "left"
          },
          "hovermode": "closest",
          "mapbox": {
           "style": "light"
          },
          "paper_bgcolor": "white",
          "plot_bgcolor": "#E5ECF6",
          "polar": {
           "angularaxis": {
            "gridcolor": "white",
            "linecolor": "white",
            "ticks": ""
           },
           "bgcolor": "#E5ECF6",
           "radialaxis": {
            "gridcolor": "white",
            "linecolor": "white",
            "ticks": ""
           }
          },
          "scene": {
           "xaxis": {
            "backgroundcolor": "#E5ECF6",
            "gridcolor": "white",
            "gridwidth": 2,
            "linecolor": "white",
            "showbackground": true,
            "ticks": "",
            "zerolinecolor": "white"
           },
           "yaxis": {
            "backgroundcolor": "#E5ECF6",
            "gridcolor": "white",
            "gridwidth": 2,
            "linecolor": "white",
            "showbackground": true,
            "ticks": "",
            "zerolinecolor": "white"
           },
           "zaxis": {
            "backgroundcolor": "#E5ECF6",
            "gridcolor": "white",
            "gridwidth": 2,
            "linecolor": "white",
            "showbackground": true,
            "ticks": "",
            "zerolinecolor": "white"
           }
          },
          "shapedefaults": {
           "line": {
            "color": "#2a3f5f"
           }
          },
          "ternary": {
           "aaxis": {
            "gridcolor": "white",
            "linecolor": "white",
            "ticks": ""
           },
           "baxis": {
            "gridcolor": "white",
            "linecolor": "white",
            "ticks": ""
           },
           "bgcolor": "#E5ECF6",
           "caxis": {
            "gridcolor": "white",
            "linecolor": "white",
            "ticks": ""
           }
          },
          "title": {
           "x": 0.05
          },
          "xaxis": {
           "automargin": true,
           "gridcolor": "white",
           "linecolor": "white",
           "ticks": "",
           "title": {
            "standoff": 15
           },
           "zerolinecolor": "white",
           "zerolinewidth": 2
          },
          "yaxis": {
           "automargin": true,
           "gridcolor": "white",
           "linecolor": "white",
           "ticks": "",
           "title": {
            "standoff": 15
           },
           "zerolinecolor": "white",
           "zerolinewidth": 2
          }
         }
        },
        "title": {
         "text": "Population of State Capital Cities in India"
        }
       }
      }
     },
     "metadata": {},
     "output_type": "display_data"
    }
   ],
   "source": [
    "import pandas as pd\n",
    "import plotly.express as px\n",
    "\n",
    "fig = px.scatter_mapbox(data_part_1, \n",
    "                       lat=data_part_1['lat'], \n",
    "                       lon=data_part_1['lng'],\n",
    "                       text = data_part_1['city'],\n",
    "                       size='population',\n",
    "                       color='population',\n",
    "                       hover_name='city',\n",
    "                       title='Population of State Capital Cities in India',\n",
    "                       size_max=75,\n",
    "                       center=dict(lat=22, lon=82),\n",
    "                       zoom=3.8,\n",
    "                       mapbox_style=\"carto-positron\",\n",
    "                       height=850,\n",
    "                       color_discrete_map='viridis',\n",
    "                       )\n",
    "\n",
    "fig.show()"
   ]
  },
  {
   "attachments": {},
   "cell_type": "markdown",
   "metadata": {},
   "source": [
    "# part 2"
   ]
  },
  {
   "cell_type": "code",
   "execution_count": 13,
   "metadata": {},
   "outputs": [],
   "source": [
    "data_part_2 = pd.read_csv(\"Flightschedule.csv\")\n",
    "data_part_2.columns = [\"Origin\",\"Destination\",\"Flight Number\",\"Departure Time\",\"Arrival Time\",\"Flight Time\",\"Routing\",\"Days Of operation\",\"Connection Flight\",\"Effective From\",\"Effective To\"]\n",
    "data_part_2 = data_part_2.iloc[2:].reset_index(drop=True)[[\"Origin\",\"Destination\",\"Routing\"]]\n",
    "data_part_2 = data_part_2.drop_duplicates().reset_index(drop=True)"
   ]
  },
  {
   "cell_type": "code",
   "execution_count": 14,
   "metadata": {},
   "outputs": [],
   "source": [
    "route_to_city = {\n",
    "    'Non Stop':  None,\n",
    "    'Via BOM' : 'Mumbai',\n",
    "    'Via DEL' : 'Delhi',\n",
    "    'Via CNN' : 'Kannur',\n",
    "    'Via CCU' : 'Kolkata',\n",
    "    'Via GOI' : 'Goa',\n",
    "    'Via LKO' : 'Lucknow',\n",
    "    'Via PNQ' : 'Pune',\n",
    "    'Via HYD' : 'Hyderabad',\n",
    "    'Via BLR' : 'Bengaluru',\n",
    "    'Via IXC' : 'Chandigarh',\n",
    "    'Via GAU' : 'Guwahati',\n",
    "    'Via AMD' : 'Ahmedabad',\n",
    "    'Via PAT' : 'Patna',\n",
    "    'Via IXR' : 'Ranchi',\n",
    "    'Via COK' : 'Kochi',\n",
    "    'Via SXR' : 'Srinagar',\n",
    "    'Via IXB' : 'Bagdogra',\n",
    "    'Via IXL' : 'Leh',\n",
    "    'Via JAI' : 'Jaipur',\n",
    "    'Via NAG' : 'Nagpur',\n",
    "    'Via VNS' : 'Varanasi',\n",
    "    'Via IXJ' : 'Jammu',\n",
    "    'Via GOX' : 'Goa-New Goa',\n",
    "    'Via MAA' : 'Chennai',\n",
    "}\n",
    "\n",
    "def apply_routing(x):\n",
    "    if x in route_to_city.keys():\n",
    "        return route_to_city[x]\n",
    "    else:\n",
    "        return None"
   ]
  },
  {
   "cell_type": "code",
   "execution_count": 15,
   "metadata": {},
   "outputs": [],
   "source": [
    "def shuffles(dataset):\n",
    "    new_dataset = pd.DataFrame()\n",
    "    routes = dataset[\"Routing\"].apply(lambda x : apply_routing(x))\n",
    "\n",
    "    \n",
    "    count = 0\n",
    "    for i in range(len(routes)):\n",
    "        if routes[i] == None:\n",
    "            new_dataset = pd.concat([new_dataset,dataset.iloc[i][[\"Origin\",\"Destination\"]]])\n",
    "        else:\n",
    "            new_dataset = pd.concat([new_dataset,pd.DataFrame({'Origin' : dataset.iloc[i][\"Origin\"], 'Destination' : routes[i]},index = [i+count])])\n",
    "            new_dataset = pd.concat([new_dataset,pd.DataFrame({'Origin' : routes[i], 'Destination' : dataset.iloc[i][\"Destination\"]}   ,index = [i+count+1])])\n",
    "            \n",
    "            count += 1\n",
    "\n",
    "    return new_dataset[[\"Origin\",\"Destination\"]].drop_duplicates().reset_index(drop = True)\n",
    "\n",
    "preprocessed_data = shuffles(data_part_2)\n"
   ]
  },
  {
   "cell_type": "code",
   "execution_count": 16,
   "metadata": {},
   "outputs": [
    {
     "data": {
      "application/vnd.jupyter.widget-view+json": {
       "model_id": "5fe1c7fff7f84e9db144b4d8de643d4f",
       "version_major": 2,
       "version_minor": 0
      },
      "text/plain": [
       "  0%|          | 0/69 [00:00<?, ?it/s]"
      ]
     },
     "metadata": {},
     "output_type": "display_data"
    },
    {
     "name": "stdout",
     "output_type": "stream",
     "text": [
      "{'Abu Dhabi': [24.4538352, 54.3774014], 'Mumbai': [19.0785451, 72.878176], 'Delhi': [28.6517178, 77.2219388], 'Kannur': [11.8763836, 75.3737973], 'Ahmedabad': [23.0216238, 72.5797068], 'Kolkata': [22.5726723, 88.3638815], 'Goa': [15.3004543, 74.0855134], 'Lucknow': [26.8381, 80.9346001], 'Pune': [18.521428, 73.8544541], 'Hyderabad': [17.38878595, 78.46106473453146], 'Bengaluru': [12.9767936, 77.590082], 'Chandigarh': [30.72984395, 76.78414567016054], 'Amritsar': [31.6343083, 74.8736788], 'Bagdogra': [26.6988847, 88.3200303], 'Guwahati': [26.1805978, 91.753943], 'Bangkok': [13.7524938, 100.4935089], 'Patna': [25.6093239, 85.1235252], 'Ranchi': [23.3700501, 85.3250387], 'Kochi': [9.9674277, 76.2454436], 'Srinagar': [34.0747444, 74.8204443], 'Chennai': [13.0836939, 80.270186], 'Dammam': [26.4367824, 50.1039991], 'Dehra Dun': [30.3255646, 78.0436813], 'Leh': [34.1642029, 77.5848133], 'Jaipur': [26.9154576, 75.8189817], 'Nagpur': [21.1498134, 79.0820556], 'Varanasi': [25.3356491, 83.0076292], 'Goa-New Goa': [15.5937836, 73.8126805], 'Jammu': [32.7185614, 74.8580917], 'Kuwait': [29.2733964, 47.4979476], 'Male': [4.1779879, 73.5107387], 'Muscat': [23.61515, 58.5912467], 'Phuket': [7.9366015, 98.3529292], 'Port Blair': [11.6645348, 92.7390448], nan: [46.3144754, 11.0480288]}\n"
     ]
    }
   ],
   "source": [
    "from geopy.geocoders import Nominatim\n",
    "\n",
    "geolocator = Nominatim(user_agent=\"MyApp\")\n",
    "\n",
    "cities = preprocessed_data[\"Origin\"].unique().tolist() + preprocessed_data[\"Destination\"].unique().tolist()\n",
    "\n",
    "if np.nan in cities:\n",
    "    cities.remove(np.nan)\n",
    "\n",
    "city_coord = {}\n",
    "for city in tqdm(cities):\n",
    "    location = geolocator.geocode(city)\n",
    "\n",
    "    city_coord[city] = [location.latitude,location.longitude]\n",
    "\n",
    "print(city_coord)"
   ]
  },
  {
   "cell_type": "code",
   "execution_count": 17,
   "metadata": {},
   "outputs": [
    {
     "data": {
      "text/html": [
       "<div>\n",
       "<style scoped>\n",
       "    .dataframe tbody tr th:only-of-type {\n",
       "        vertical-align: middle;\n",
       "    }\n",
       "\n",
       "    .dataframe tbody tr th {\n",
       "        vertical-align: top;\n",
       "    }\n",
       "\n",
       "    .dataframe thead th {\n",
       "        text-align: right;\n",
       "    }\n",
       "</style>\n",
       "<table border=\"1\" class=\"dataframe\">\n",
       "  <thead>\n",
       "    <tr style=\"text-align: right;\">\n",
       "      <th></th>\n",
       "      <th>Origin</th>\n",
       "      <th>Destination</th>\n",
       "    </tr>\n",
       "  </thead>\n",
       "  <tbody>\n",
       "    <tr>\n",
       "      <th>0</th>\n",
       "      <td>Abu Dhabi</td>\n",
       "      <td>Mumbai</td>\n",
       "    </tr>\n",
       "    <tr>\n",
       "      <th>1</th>\n",
       "      <td>Mumbai</td>\n",
       "      <td>Ahmedabad</td>\n",
       "    </tr>\n",
       "    <tr>\n",
       "      <th>2</th>\n",
       "      <td>Abu Dhabi</td>\n",
       "      <td>Delhi</td>\n",
       "    </tr>\n",
       "    <tr>\n",
       "      <th>3</th>\n",
       "      <td>Delhi</td>\n",
       "      <td>Ahmedabad</td>\n",
       "    </tr>\n",
       "    <tr>\n",
       "      <th>4</th>\n",
       "      <td>Mumbai</td>\n",
       "      <td>Amritsar</td>\n",
       "    </tr>\n",
       "    <tr>\n",
       "      <th>...</th>\n",
       "      <td>...</td>\n",
       "      <td>...</td>\n",
       "    </tr>\n",
       "    <tr>\n",
       "      <th>163</th>\n",
       "      <td>Phuket</td>\n",
       "      <td>Bengaluru</td>\n",
       "    </tr>\n",
       "    <tr>\n",
       "      <th>164</th>\n",
       "      <td>Phuket</td>\n",
       "      <td>Delhi</td>\n",
       "    </tr>\n",
       "    <tr>\n",
       "      <th>165</th>\n",
       "      <td>Port Blair</td>\n",
       "      <td>Kolkata</td>\n",
       "    </tr>\n",
       "    <tr>\n",
       "      <th>166</th>\n",
       "      <td>Port Blair</td>\n",
       "      <td>Bengaluru</td>\n",
       "    </tr>\n",
       "    <tr>\n",
       "      <th>167</th>\n",
       "      <td>Port Blair</td>\n",
       "      <td>Chennai</td>\n",
       "    </tr>\n",
       "  </tbody>\n",
       "</table>\n",
       "<p>168 rows × 2 columns</p>\n",
       "</div>"
      ],
      "text/plain": [
       "         Origin Destination\n",
       "0     Abu Dhabi      Mumbai\n",
       "1        Mumbai   Ahmedabad\n",
       "2     Abu Dhabi       Delhi\n",
       "3         Delhi   Ahmedabad\n",
       "4        Mumbai    Amritsar\n",
       "..          ...         ...\n",
       "163      Phuket   Bengaluru\n",
       "164      Phuket       Delhi\n",
       "165  Port Blair     Kolkata\n",
       "166  Port Blair   Bengaluru\n",
       "167  Port Blair     Chennai\n",
       "\n",
       "[168 rows x 2 columns]"
      ]
     },
     "execution_count": 17,
     "metadata": {},
     "output_type": "execute_result"
    }
   ],
   "source": [
    "preprocessed_data"
   ]
  },
  {
   "cell_type": "code",
   "execution_count": 18,
   "metadata": {},
   "outputs": [
    {
     "data": {
      "application/vnd.plotly.v1+json": {
       "config": {
        "plotlyServerURL": "https://plot.ly"
       },
       "data": [
        {
         "hoverinfo": "skip",
         "lat": [
          24.4538352,
          19.0785451
         ],
         "line": {
          "color": "red",
          "width": 1
         },
         "lon": [
          54.3774014,
          72.878176
         ],
         "mode": "lines",
         "opacity": 0.2,
         "showlegend": false,
         "type": "scattergeo"
        },
        {
         "hoverinfo": "skip",
         "lat": [
          19.0785451,
          23.0216238
         ],
         "line": {
          "color": "red",
          "width": 1
         },
         "lon": [
          72.878176,
          72.5797068
         ],
         "mode": "lines",
         "opacity": 0.2,
         "showlegend": false,
         "type": "scattergeo"
        },
        {
         "hoverinfo": "skip",
         "lat": [
          24.4538352,
          28.6517178
         ],
         "line": {
          "color": "red",
          "width": 1
         },
         "lon": [
          54.3774014,
          77.2219388
         ],
         "mode": "lines",
         "opacity": 0.2,
         "showlegend": false,
         "type": "scattergeo"
        },
        {
         "hoverinfo": "skip",
         "lat": [
          28.6517178,
          23.0216238
         ],
         "line": {
          "color": "red",
          "width": 1
         },
         "lon": [
          77.2219388,
          72.5797068
         ],
         "mode": "lines",
         "opacity": 0.2,
         "showlegend": false,
         "type": "scattergeo"
        },
        {
         "hoverinfo": "skip",
         "lat": [
          19.0785451,
          31.6343083
         ],
         "line": {
          "color": "red",
          "width": 1
         },
         "lon": [
          72.878176,
          74.8736788
         ],
         "mode": "lines",
         "opacity": 0.2,
         "showlegend": false,
         "type": "scattergeo"
        },
        {
         "hoverinfo": "skip",
         "lat": [
          28.6517178,
          26.6988847
         ],
         "line": {
          "color": "red",
          "width": 1
         },
         "lon": [
          77.2219388,
          88.3200303
         ],
         "mode": "lines",
         "opacity": 0.2,
         "showlegend": false,
         "type": "scattergeo"
        },
        {
         "hoverinfo": "skip",
         "lat": [
          28.6517178,
          13.7524938
         ],
         "line": {
          "color": "red",
          "width": 1
         },
         "lon": [
          77.2219388,
          100.4935089
         ],
         "mode": "lines",
         "opacity": 0.2,
         "showlegend": false,
         "type": "scattergeo"
        },
        {
         "hoverinfo": "skip",
         "lat": [
          28.6517178,
          12.9767936
         ],
         "line": {
          "color": "red",
          "width": 1
         },
         "lon": [
          77.2219388,
          77.590082
         ],
         "mode": "lines",
         "opacity": 0.2,
         "showlegend": false,
         "type": "scattergeo"
        },
        {
         "hoverinfo": "skip",
         "lat": [
          19.0785451,
          30.72984395
         ],
         "line": {
          "color": "red",
          "width": 1
         },
         "lon": [
          72.878176,
          76.78414567016054
         ],
         "mode": "lines",
         "opacity": 0.2,
         "showlegend": false,
         "type": "scattergeo"
        },
        {
         "hoverinfo": "skip",
         "lat": [
          19.0785451,
          13.0836939
         ],
         "line": {
          "color": "red",
          "width": 1
         },
         "lon": [
          72.878176,
          80.270186
         ],
         "mode": "lines",
         "opacity": 0.2,
         "showlegend": false,
         "type": "scattergeo"
        },
        {
         "hoverinfo": "skip",
         "lat": [
          19.0785451,
          30.3255646
         ],
         "line": {
          "color": "red",
          "width": 1
         },
         "lon": [
          72.878176,
          78.0436813
         ],
         "mode": "lines",
         "opacity": 0.2,
         "showlegend": false,
         "type": "scattergeo"
        },
        {
         "hoverinfo": "skip",
         "lat": [
          19.0785451,
          28.6517178
         ],
         "line": {
          "color": "red",
          "width": 1
         },
         "lon": [
          72.878176,
          77.2219388
         ],
         "mode": "lines",
         "opacity": 0.2,
         "showlegend": false,
         "type": "scattergeo"
        },
        {
         "hoverinfo": "skip",
         "lat": [
          46.3144754,
          46.3144754
         ],
         "line": {
          "color": "red",
          "width": 1
         },
         "lon": [
          11.0480288,
          11.0480288
         ],
         "mode": "lines",
         "opacity": 0.2,
         "showlegend": false,
         "type": "scattergeo"
        },
        {
         "hoverinfo": "skip",
         "lat": [
          19.0785451,
          15.3004543
         ],
         "line": {
          "color": "red",
          "width": 1
         },
         "lon": [
          72.878176,
          74.0855134
         ],
         "mode": "lines",
         "opacity": 0.2,
         "showlegend": false,
         "type": "scattergeo"
        },
        {
         "hoverinfo": "skip",
         "lat": [
          28.6517178,
          15.3004543
         ],
         "line": {
          "color": "red",
          "width": 1
         },
         "lon": [
          77.2219388,
          74.0855134
         ],
         "mode": "lines",
         "opacity": 0.2,
         "showlegend": false,
         "type": "scattergeo"
        },
        {
         "hoverinfo": "skip",
         "lat": [
          19.0785451,
          15.5937836
         ],
         "line": {
          "color": "red",
          "width": 1
         },
         "lon": [
          72.878176,
          73.8126805
         ],
         "mode": "lines",
         "opacity": 0.2,
         "showlegend": false,
         "type": "scattergeo"
        },
        {
         "hoverinfo": "skip",
         "lat": [
          28.6517178,
          26.1805978
         ],
         "line": {
          "color": "red",
          "width": 1
         },
         "lon": [
          77.2219388,
          91.753943
         ],
         "mode": "lines",
         "opacity": 0.2,
         "showlegend": false,
         "type": "scattergeo"
        },
        {
         "hoverinfo": "skip",
         "lat": [
          19.0785451,
          26.9154576
         ],
         "line": {
          "color": "red",
          "width": 1
         },
         "lon": [
          72.878176,
          75.8189817
         ],
         "mode": "lines",
         "opacity": 0.2,
         "showlegend": false,
         "type": "scattergeo"
        },
        {
         "hoverinfo": "skip",
         "lat": [
          28.6517178,
          32.7185614
         ],
         "line": {
          "color": "red",
          "width": 1
         },
         "lon": [
          77.2219388,
          74.8580917
         ],
         "mode": "lines",
         "opacity": 0.2,
         "showlegend": false,
         "type": "scattergeo"
        },
        {
         "hoverinfo": "skip",
         "lat": [
          19.0785451,
          32.7185614
         ],
         "line": {
          "color": "red",
          "width": 1
         },
         "lon": [
          72.878176,
          74.8580917
         ],
         "mode": "lines",
         "opacity": 0.2,
         "showlegend": false,
         "type": "scattergeo"
        },
        {
         "hoverinfo": "skip",
         "lat": [
          19.0785451,
          11.8763836
         ],
         "line": {
          "color": "red",
          "width": 1
         },
         "lon": [
          72.878176,
          75.3737973
         ],
         "mode": "lines",
         "opacity": 0.2,
         "showlegend": false,
         "type": "scattergeo"
        },
        {
         "hoverinfo": "skip",
         "lat": [
          19.0785451,
          9.9674277
         ],
         "line": {
          "color": "red",
          "width": 1
         },
         "lon": [
          72.878176,
          76.2454436
         ],
         "mode": "lines",
         "opacity": 0.2,
         "showlegend": false,
         "type": "scattergeo"
        },
        {
         "hoverinfo": "skip",
         "lat": [
          19.0785451,
          22.5726723
         ],
         "line": {
          "color": "red",
          "width": 1
         },
         "lon": [
          72.878176,
          88.3638815
         ],
         "mode": "lines",
         "opacity": 0.2,
         "showlegend": false,
         "type": "scattergeo"
        },
        {
         "hoverinfo": "skip",
         "lat": [
          28.6517178,
          22.5726723
         ],
         "line": {
          "color": "red",
          "width": 1
         },
         "lon": [
          77.2219388,
          88.3638815
         ],
         "mode": "lines",
         "opacity": 0.2,
         "showlegend": false,
         "type": "scattergeo"
        },
        {
         "hoverinfo": "skip",
         "lat": [
          28.6517178,
          34.1642029
         ],
         "line": {
          "color": "red",
          "width": 1
         },
         "lon": [
          77.2219388,
          77.5848133
         ],
         "mode": "lines",
         "opacity": 0.2,
         "showlegend": false,
         "type": "scattergeo"
        },
        {
         "hoverinfo": "skip",
         "lat": [
          19.0785451,
          26.8381
         ],
         "line": {
          "color": "red",
          "width": 1
         },
         "lon": [
          72.878176,
          80.9346001
         ],
         "mode": "lines",
         "opacity": 0.2,
         "showlegend": false,
         "type": "scattergeo"
        },
        {
         "hoverinfo": "skip",
         "lat": [
          19.0785451,
          4.1779879
         ],
         "line": {
          "color": "red",
          "width": 1
         },
         "lon": [
          72.878176,
          73.5107387
         ],
         "mode": "lines",
         "opacity": 0.2,
         "showlegend": false,
         "type": "scattergeo"
        },
        {
         "hoverinfo": "skip",
         "lat": [
          28.6517178,
          4.1779879
         ],
         "line": {
          "color": "red",
          "width": 1
         },
         "lon": [
          77.2219388,
          73.5107387
         ],
         "mode": "lines",
         "opacity": 0.2,
         "showlegend": false,
         "type": "scattergeo"
        },
        {
         "hoverinfo": "skip",
         "lat": [
          28.6517178,
          19.0785451
         ],
         "line": {
          "color": "red",
          "width": 1
         },
         "lon": [
          77.2219388,
          72.878176
         ],
         "mode": "lines",
         "opacity": 0.2,
         "showlegend": false,
         "type": "scattergeo"
        },
        {
         "hoverinfo": "skip",
         "lat": [
          24.4538352,
          11.8763836
         ],
         "line": {
          "color": "red",
          "width": 1
         },
         "lon": [
          54.3774014,
          75.3737973
         ],
         "mode": "lines",
         "opacity": 0.2,
         "showlegend": false,
         "type": "scattergeo"
        },
        {
         "hoverinfo": "skip",
         "lat": [
          11.8763836,
          19.0785451
         ],
         "line": {
          "color": "red",
          "width": 1
         },
         "lon": [
          75.3737973,
          72.878176
         ],
         "mode": "lines",
         "opacity": 0.2,
         "showlegend": false,
         "type": "scattergeo"
        },
        {
         "hoverinfo": "skip",
         "lat": [
          19.0785451,
          21.1498134
         ],
         "line": {
          "color": "red",
          "width": 1
         },
         "lon": [
          72.878176,
          79.0820556
         ],
         "mode": "lines",
         "opacity": 0.2,
         "showlegend": false,
         "type": "scattergeo"
        },
        {
         "hoverinfo": "skip",
         "lat": [
          19.0785451,
          25.6093239
         ],
         "line": {
          "color": "red",
          "width": 1
         },
         "lon": [
          72.878176,
          85.1235252
         ],
         "mode": "lines",
         "opacity": 0.2,
         "showlegend": false,
         "type": "scattergeo"
        },
        {
         "hoverinfo": "skip",
         "lat": [
          28.6517178,
          25.6093239
         ],
         "line": {
          "color": "red",
          "width": 1
         },
         "lon": [
          77.2219388,
          85.1235252
         ],
         "mode": "lines",
         "opacity": 0.2,
         "showlegend": false,
         "type": "scattergeo"
        },
        {
         "hoverinfo": "skip",
         "lat": [
          28.6517178,
          18.521428
         ],
         "line": {
          "color": "red",
          "width": 1
         },
         "lon": [
          77.2219388,
          73.8544541
         ],
         "mode": "lines",
         "opacity": 0.2,
         "showlegend": false,
         "type": "scattergeo"
        },
        {
         "hoverinfo": "skip",
         "lat": [
          28.6517178,
          23.3700501
         ],
         "line": {
          "color": "red",
          "width": 1
         },
         "lon": [
          77.2219388,
          85.3250387
         ],
         "mode": "lines",
         "opacity": 0.2,
         "showlegend": false,
         "type": "scattergeo"
        },
        {
         "hoverinfo": "skip",
         "lat": [
          19.0785451,
          23.3700501
         ],
         "line": {
          "color": "red",
          "width": 1
         },
         "lon": [
          72.878176,
          85.3250387
         ],
         "mode": "lines",
         "opacity": 0.2,
         "showlegend": false,
         "type": "scattergeo"
        },
        {
         "hoverinfo": "skip",
         "lat": [
          19.0785451,
          34.0747444
         ],
         "line": {
          "color": "red",
          "width": 1
         },
         "lon": [
          72.878176,
          74.8204443
         ],
         "mode": "lines",
         "opacity": 0.2,
         "showlegend": false,
         "type": "scattergeo"
        },
        {
         "hoverinfo": "skip",
         "lat": [
          28.6517178,
          34.0747444
         ],
         "line": {
          "color": "red",
          "width": 1
         },
         "lon": [
          77.2219388,
          74.8204443
         ],
         "mode": "lines",
         "opacity": 0.2,
         "showlegend": false,
         "type": "scattergeo"
        },
        {
         "hoverinfo": "skip",
         "lat": [
          19.0785451,
          25.3356491
         ],
         "line": {
          "color": "red",
          "width": 1
         },
         "lon": [
          72.878176,
          83.0076292
         ],
         "mode": "lines",
         "opacity": 0.2,
         "showlegend": false,
         "type": "scattergeo"
        },
        {
         "hoverinfo": "skip",
         "lat": [
          28.6517178,
          25.3356491
         ],
         "line": {
          "color": "red",
          "width": 1
         },
         "lon": [
          77.2219388,
          83.0076292
         ],
         "mode": "lines",
         "opacity": 0.2,
         "showlegend": false,
         "type": "scattergeo"
        },
        {
         "hoverinfo": "skip",
         "lat": [
          23.0216238,
          19.0785451
         ],
         "line": {
          "color": "red",
          "width": 1
         },
         "lon": [
          72.5797068,
          72.878176
         ],
         "mode": "lines",
         "opacity": 0.2,
         "showlegend": false,
         "type": "scattergeo"
        },
        {
         "hoverinfo": "skip",
         "lat": [
          19.0785451,
          24.4538352
         ],
         "line": {
          "color": "red",
          "width": 1
         },
         "lon": [
          72.878176,
          54.3774014
         ],
         "mode": "lines",
         "opacity": 0.2,
         "showlegend": false,
         "type": "scattergeo"
        },
        {
         "hoverinfo": "skip",
         "lat": [
          23.0216238,
          28.6517178
         ],
         "line": {
          "color": "red",
          "width": 1
         },
         "lon": [
          72.5797068,
          77.2219388
         ],
         "mode": "lines",
         "opacity": 0.2,
         "showlegend": false,
         "type": "scattergeo"
        },
        {
         "hoverinfo": "skip",
         "lat": [
          28.6517178,
          24.4538352
         ],
         "line": {
          "color": "red",
          "width": 1
         },
         "lon": [
          77.2219388,
          54.3774014
         ],
         "mode": "lines",
         "opacity": 0.2,
         "showlegend": false,
         "type": "scattergeo"
        },
        {
         "hoverinfo": "skip",
         "lat": [
          23.0216238,
          22.5726723
         ],
         "line": {
          "color": "red",
          "width": 1
         },
         "lon": [
          72.5797068,
          88.3638815
         ],
         "mode": "lines",
         "opacity": 0.2,
         "showlegend": false,
         "type": "scattergeo"
        },
        {
         "hoverinfo": "skip",
         "lat": [
          22.5726723,
          26.6988847
         ],
         "line": {
          "color": "red",
          "width": 1
         },
         "lon": [
          88.3638815,
          88.3200303
         ],
         "mode": "lines",
         "opacity": 0.2,
         "showlegend": false,
         "type": "scattergeo"
        },
        {
         "hoverinfo": "skip",
         "lat": [
          19.0785451,
          13.7524938
         ],
         "line": {
          "color": "red",
          "width": 1
         },
         "lon": [
          72.878176,
          100.4935089
         ],
         "mode": "lines",
         "opacity": 0.2,
         "showlegend": false,
         "type": "scattergeo"
        },
        {
         "hoverinfo": "skip",
         "lat": [
          19.0785451,
          12.9767936
         ],
         "line": {
          "color": "red",
          "width": 1
         },
         "lon": [
          72.878176,
          77.590082
         ],
         "mode": "lines",
         "opacity": 0.2,
         "showlegend": false,
         "type": "scattergeo"
        },
        {
         "hoverinfo": "skip",
         "lat": [
          23.0216238,
          15.3004543
         ],
         "line": {
          "color": "red",
          "width": 1
         },
         "lon": [
          72.5797068,
          74.0855134
         ],
         "mode": "lines",
         "opacity": 0.2,
         "showlegend": false,
         "type": "scattergeo"
        },
        {
         "hoverinfo": "skip",
         "lat": [
          15.3004543,
          12.9767936
         ],
         "line": {
          "color": "red",
          "width": 1
         },
         "lon": [
          74.0855134,
          77.590082
         ],
         "mode": "lines",
         "opacity": 0.2,
         "showlegend": false,
         "type": "scattergeo"
        },
        {
         "hoverinfo": "skip",
         "lat": [
          22.5726723,
          12.9767936
         ],
         "line": {
          "color": "red",
          "width": 1
         },
         "lon": [
          88.3638815,
          77.590082
         ],
         "mode": "lines",
         "opacity": 0.2,
         "showlegend": false,
         "type": "scattergeo"
        },
        {
         "hoverinfo": "skip",
         "lat": [
          23.0216238,
          26.8381
         ],
         "line": {
          "color": "red",
          "width": 1
         },
         "lon": [
          72.5797068,
          80.9346001
         ],
         "mode": "lines",
         "opacity": 0.2,
         "showlegend": false,
         "type": "scattergeo"
        },
        {
         "hoverinfo": "skip",
         "lat": [
          26.8381,
          12.9767936
         ],
         "line": {
          "color": "red",
          "width": 1
         },
         "lon": [
          80.9346001,
          77.590082
         ],
         "mode": "lines",
         "opacity": 0.2,
         "showlegend": false,
         "type": "scattergeo"
        },
        {
         "hoverinfo": "skip",
         "lat": [
          23.0216238,
          18.521428
         ],
         "line": {
          "color": "red",
          "width": 1
         },
         "lon": [
          72.5797068,
          73.8544541
         ],
         "mode": "lines",
         "opacity": 0.2,
         "showlegend": false,
         "type": "scattergeo"
        },
        {
         "hoverinfo": "skip",
         "lat": [
          18.521428,
          12.9767936
         ],
         "line": {
          "color": "red",
          "width": 1
         },
         "lon": [
          73.8544541,
          77.590082
         ],
         "mode": "lines",
         "opacity": 0.2,
         "showlegend": false,
         "type": "scattergeo"
        },
        {
         "hoverinfo": "skip",
         "lat": [
          23.0216238,
          17.38878595
         ],
         "line": {
          "color": "red",
          "width": 1
         },
         "lon": [
          72.5797068,
          78.46106473453146
         ],
         "mode": "lines",
         "opacity": 0.2,
         "showlegend": false,
         "type": "scattergeo"
        },
        {
         "hoverinfo": "skip",
         "lat": [
          17.38878595,
          28.6517178
         ],
         "line": {
          "color": "red",
          "width": 1
         },
         "lon": [
          78.46106473453146,
          77.2219388
         ],
         "mode": "lines",
         "opacity": 0.2,
         "showlegend": false,
         "type": "scattergeo"
        },
        {
         "hoverinfo": "skip",
         "lat": [
          18.521428,
          28.6517178
         ],
         "line": {
          "color": "red",
          "width": 1
         },
         "lon": [
          73.8544541,
          77.2219388
         ],
         "mode": "lines",
         "opacity": 0.2,
         "showlegend": false,
         "type": "scattergeo"
        },
        {
         "hoverinfo": "skip",
         "lat": [
          23.0216238,
          12.9767936
         ],
         "line": {
          "color": "red",
          "width": 1
         },
         "lon": [
          72.5797068,
          77.590082
         ],
         "mode": "lines",
         "opacity": 0.2,
         "showlegend": false,
         "type": "scattergeo"
        },
        {
         "hoverinfo": "skip",
         "lat": [
          12.9767936,
          15.5937836
         ],
         "line": {
          "color": "red",
          "width": 1
         },
         "lon": [
          77.590082,
          73.8126805
         ],
         "mode": "lines",
         "opacity": 0.2,
         "showlegend": false,
         "type": "scattergeo"
        },
        {
         "hoverinfo": "skip",
         "lat": [
          22.5726723,
          26.1805978
         ],
         "line": {
          "color": "red",
          "width": 1
         },
         "lon": [
          88.3638815,
          91.753943
         ],
         "mode": "lines",
         "opacity": 0.2,
         "showlegend": false,
         "type": "scattergeo"
        },
        {
         "hoverinfo": "skip",
         "lat": [
          28.6517178,
          17.38878595
         ],
         "line": {
          "color": "red",
          "width": 1
         },
         "lon": [
          77.2219388,
          78.46106473453146
         ],
         "mode": "lines",
         "opacity": 0.2,
         "showlegend": false,
         "type": "scattergeo"
        },
        {
         "hoverinfo": "skip",
         "lat": [
          28.6517178,
          26.9154576
         ],
         "line": {
          "color": "red",
          "width": 1
         },
         "lon": [
          77.2219388,
          75.8189817
         ],
         "mode": "lines",
         "opacity": 0.2,
         "showlegend": false,
         "type": "scattergeo"
        },
        {
         "hoverinfo": "skip",
         "lat": [
          12.9767936,
          9.9674277
         ],
         "line": {
          "color": "red",
          "width": 1
         },
         "lon": [
          77.590082,
          76.2454436
         ],
         "mode": "lines",
         "opacity": 0.2,
         "showlegend": false,
         "type": "scattergeo"
        },
        {
         "hoverinfo": "skip",
         "lat": [
          12.9767936,
          22.5726723
         ],
         "line": {
          "color": "red",
          "width": 1
         },
         "lon": [
          77.590082,
          88.3638815
         ],
         "mode": "lines",
         "opacity": 0.2,
         "showlegend": false,
         "type": "scattergeo"
        },
        {
         "hoverinfo": "skip",
         "lat": [
          18.521428,
          22.5726723
         ],
         "line": {
          "color": "red",
          "width": 1
         },
         "lon": [
          73.8544541,
          88.3638815
         ],
         "mode": "lines",
         "opacity": 0.2,
         "showlegend": false,
         "type": "scattergeo"
        },
        {
         "hoverinfo": "skip",
         "lat": [
          19.0785451,
          29.2733964
         ],
         "line": {
          "color": "red",
          "width": 1
         },
         "lon": [
          72.878176,
          47.4979476
         ],
         "mode": "lines",
         "opacity": 0.2,
         "showlegend": false,
         "type": "scattergeo"
        },
        {
         "hoverinfo": "skip",
         "lat": [
          12.9767936,
          26.8381
         ],
         "line": {
          "color": "red",
          "width": 1
         },
         "lon": [
          77.590082,
          80.9346001
         ],
         "mode": "lines",
         "opacity": 0.2,
         "showlegend": false,
         "type": "scattergeo"
        },
        {
         "hoverinfo": "skip",
         "lat": [
          12.9767936,
          4.1779879
         ],
         "line": {
          "color": "red",
          "width": 1
         },
         "lon": [
          77.590082,
          73.5107387
         ],
         "mode": "lines",
         "opacity": 0.2,
         "showlegend": false,
         "type": "scattergeo"
        },
        {
         "hoverinfo": "skip",
         "lat": [
          26.8381,
          19.0785451
         ],
         "line": {
          "color": "red",
          "width": 1
         },
         "lon": [
          80.9346001,
          72.878176
         ],
         "mode": "lines",
         "opacity": 0.2,
         "showlegend": false,
         "type": "scattergeo"
        },
        {
         "hoverinfo": "skip",
         "lat": [
          19.0785451,
          23.61515
         ],
         "line": {
          "color": "red",
          "width": 1
         },
         "lon": [
          72.878176,
          58.5912467
         ],
         "mode": "lines",
         "opacity": 0.2,
         "showlegend": false,
         "type": "scattergeo"
        },
        {
         "hoverinfo": "skip",
         "lat": [
          28.6517178,
          21.1498134
         ],
         "line": {
          "color": "red",
          "width": 1
         },
         "lon": [
          77.2219388,
          79.0820556
         ],
         "mode": "lines",
         "opacity": 0.2,
         "showlegend": false,
         "type": "scattergeo"
        },
        {
         "hoverinfo": "skip",
         "lat": [
          18.521428,
          21.1498134
         ],
         "line": {
          "color": "red",
          "width": 1
         },
         "lon": [
          73.8544541,
          79.0820556
         ],
         "mode": "lines",
         "opacity": 0.2,
         "showlegend": false,
         "type": "scattergeo"
        },
        {
         "hoverinfo": "skip",
         "lat": [
          12.9767936,
          25.6093239
         ],
         "line": {
          "color": "red",
          "width": 1
         },
         "lon": [
          77.590082,
          85.1235252
         ],
         "mode": "lines",
         "opacity": 0.2,
         "showlegend": false,
         "type": "scattergeo"
        },
        {
         "hoverinfo": "skip",
         "lat": [
          19.0785451,
          7.9366015
         ],
         "line": {
          "color": "red",
          "width": 1
         },
         "lon": [
          72.878176,
          98.3529292
         ],
         "mode": "lines",
         "opacity": 0.2,
         "showlegend": false,
         "type": "scattergeo"
        },
        {
         "hoverinfo": "skip",
         "lat": [
          28.6517178,
          7.9366015
         ],
         "line": {
          "color": "red",
          "width": 1
         },
         "lon": [
          77.2219388,
          98.3529292
         ],
         "mode": "lines",
         "opacity": 0.2,
         "showlegend": false,
         "type": "scattergeo"
        },
        {
         "hoverinfo": "skip",
         "lat": [
          12.9767936,
          7.9366015
         ],
         "line": {
          "color": "red",
          "width": 1
         },
         "lon": [
          77.590082,
          98.3529292
         ],
         "mode": "lines",
         "opacity": 0.2,
         "showlegend": false,
         "type": "scattergeo"
        },
        {
         "hoverinfo": "skip",
         "lat": [
          12.9767936,
          11.6645348
         ],
         "line": {
          "color": "red",
          "width": 1
         },
         "lon": [
          77.590082,
          92.7390448
         ],
         "mode": "lines",
         "opacity": 0.2,
         "showlegend": false,
         "type": "scattergeo"
        },
        {
         "hoverinfo": "skip",
         "lat": [
          12.9767936,
          23.3700501
         ],
         "line": {
          "color": "red",
          "width": 1
         },
         "lon": [
          77.590082,
          85.3250387
         ],
         "mode": "lines",
         "opacity": 0.2,
         "showlegend": false,
         "type": "scattergeo"
        },
        {
         "hoverinfo": "skip",
         "lat": [
          23.0216238,
          30.72984395
         ],
         "line": {
          "color": "red",
          "width": 1
         },
         "lon": [
          72.5797068,
          76.78414567016054
         ],
         "mode": "lines",
         "opacity": 0.2,
         "showlegend": false,
         "type": "scattergeo"
        },
        {
         "hoverinfo": "skip",
         "lat": [
          30.72984395,
          34.0747444
         ],
         "line": {
          "color": "red",
          "width": 1
         },
         "lon": [
          76.78414567016054,
          74.8204443
         ],
         "mode": "lines",
         "opacity": 0.2,
         "showlegend": false,
         "type": "scattergeo"
        },
        {
         "hoverinfo": "skip",
         "lat": [
          31.6343083,
          19.0785451
         ],
         "line": {
          "color": "red",
          "width": 1
         },
         "lon": [
          74.8736788,
          72.878176
         ],
         "mode": "lines",
         "opacity": 0.2,
         "showlegend": false,
         "type": "scattergeo"
        },
        {
         "hoverinfo": "skip",
         "lat": [
          26.6988847,
          28.6517178
         ],
         "line": {
          "color": "red",
          "width": 1
         },
         "lon": [
          88.3200303,
          77.2219388
         ],
         "mode": "lines",
         "opacity": 0.2,
         "showlegend": false,
         "type": "scattergeo"
        },
        {
         "hoverinfo": "skip",
         "lat": [
          26.6988847,
          22.5726723
         ],
         "line": {
          "color": "red",
          "width": 1
         },
         "lon": [
          88.3200303,
          88.3638815
         ],
         "mode": "lines",
         "opacity": 0.2,
         "showlegend": false,
         "type": "scattergeo"
        },
        {
         "hoverinfo": "skip",
         "lat": [
          22.5726723,
          23.0216238
         ],
         "line": {
          "color": "red",
          "width": 1
         },
         "lon": [
          88.3638815,
          72.5797068
         ],
         "mode": "lines",
         "opacity": 0.2,
         "showlegend": false,
         "type": "scattergeo"
        },
        {
         "hoverinfo": "skip",
         "lat": [
          26.6988847,
          26.1805978
         ],
         "line": {
          "color": "red",
          "width": 1
         },
         "lon": [
          88.3200303,
          91.753943
         ],
         "mode": "lines",
         "opacity": 0.2,
         "showlegend": false,
         "type": "scattergeo"
        },
        {
         "hoverinfo": "skip",
         "lat": [
          26.1805978,
          28.6517178
         ],
         "line": {
          "color": "red",
          "width": 1
         },
         "lon": [
          91.753943,
          77.2219388
         ],
         "mode": "lines",
         "opacity": 0.2,
         "showlegend": false,
         "type": "scattergeo"
        },
        {
         "hoverinfo": "skip",
         "lat": [
          28.6517178,
          26.8381
         ],
         "line": {
          "color": "red",
          "width": 1
         },
         "lon": [
          77.2219388,
          80.9346001
         ],
         "mode": "lines",
         "opacity": 0.2,
         "showlegend": false,
         "type": "scattergeo"
        },
        {
         "hoverinfo": "skip",
         "lat": [
          13.7524938,
          19.0785451
         ],
         "line": {
          "color": "red",
          "width": 1
         },
         "lon": [
          100.4935089,
          72.878176
         ],
         "mode": "lines",
         "opacity": 0.2,
         "showlegend": false,
         "type": "scattergeo"
        },
        {
         "hoverinfo": "skip",
         "lat": [
          13.7524938,
          28.6517178
         ],
         "line": {
          "color": "red",
          "width": 1
         },
         "lon": [
          100.4935089,
          77.2219388
         ],
         "mode": "lines",
         "opacity": 0.2,
         "showlegend": false,
         "type": "scattergeo"
        },
        {
         "hoverinfo": "skip",
         "lat": [
          12.9767936,
          28.6517178
         ],
         "line": {
          "color": "red",
          "width": 1
         },
         "lon": [
          77.590082,
          77.2219388
         ],
         "mode": "lines",
         "opacity": 0.2,
         "showlegend": false,
         "type": "scattergeo"
        },
        {
         "hoverinfo": "skip",
         "lat": [
          12.9767936,
          19.0785451
         ],
         "line": {
          "color": "red",
          "width": 1
         },
         "lon": [
          77.590082,
          72.878176
         ],
         "mode": "lines",
         "opacity": 0.2,
         "showlegend": false,
         "type": "scattergeo"
        },
        {
         "hoverinfo": "skip",
         "lat": [
          12.9767936,
          15.3004543
         ],
         "line": {
          "color": "red",
          "width": 1
         },
         "lon": [
          77.590082,
          74.0855134
         ],
         "mode": "lines",
         "opacity": 0.2,
         "showlegend": false,
         "type": "scattergeo"
        },
        {
         "hoverinfo": "skip",
         "lat": [
          15.3004543,
          23.0216238
         ],
         "line": {
          "color": "red",
          "width": 1
         },
         "lon": [
          74.0855134,
          72.5797068
         ],
         "mode": "lines",
         "opacity": 0.2,
         "showlegend": false,
         "type": "scattergeo"
        },
        {
         "hoverinfo": "skip",
         "lat": [
          12.9767936,
          23.0216238
         ],
         "line": {
          "color": "red",
          "width": 1
         },
         "lon": [
          77.590082,
          72.5797068
         ],
         "mode": "lines",
         "opacity": 0.2,
         "showlegend": false,
         "type": "scattergeo"
        },
        {
         "hoverinfo": "skip",
         "lat": [
          12.9767936,
          18.521428
         ],
         "line": {
          "color": "red",
          "width": 1
         },
         "lon": [
          77.590082,
          73.8544541
         ],
         "mode": "lines",
         "opacity": 0.2,
         "showlegend": false,
         "type": "scattergeo"
        },
        {
         "hoverinfo": "skip",
         "lat": [
          26.8381,
          28.6517178
         ],
         "line": {
          "color": "red",
          "width": 1
         },
         "lon": [
          80.9346001,
          77.2219388
         ],
         "mode": "lines",
         "opacity": 0.2,
         "showlegend": false,
         "type": "scattergeo"
        },
        {
         "hoverinfo": "skip",
         "lat": [
          25.6093239,
          28.6517178
         ],
         "line": {
          "color": "red",
          "width": 1
         },
         "lon": [
          85.1235252,
          77.2219388
         ],
         "mode": "lines",
         "opacity": 0.2,
         "showlegend": false,
         "type": "scattergeo"
        },
        {
         "hoverinfo": "skip",
         "lat": [
          15.3004543,
          28.6517178
         ],
         "line": {
          "color": "red",
          "width": 1
         },
         "lon": [
          74.0855134,
          77.2219388
         ],
         "mode": "lines",
         "opacity": 0.2,
         "showlegend": false,
         "type": "scattergeo"
        },
        {
         "hoverinfo": "skip",
         "lat": [
          23.3700501,
          28.6517178
         ],
         "line": {
          "color": "red",
          "width": 1
         },
         "lon": [
          85.3250387,
          77.2219388
         ],
         "mode": "lines",
         "opacity": 0.2,
         "showlegend": false,
         "type": "scattergeo"
        },
        {
         "hoverinfo": "skip",
         "lat": [
          9.9674277,
          19.0785451
         ],
         "line": {
          "color": "red",
          "width": 1
         },
         "lon": [
          76.2454436,
          72.878176
         ],
         "mode": "lines",
         "opacity": 0.2,
         "showlegend": false,
         "type": "scattergeo"
        },
        {
         "hoverinfo": "skip",
         "lat": [
          23.0216238,
          25.6093239
         ],
         "line": {
          "color": "red",
          "width": 1
         },
         "lon": [
          72.5797068,
          85.1235252
         ],
         "mode": "lines",
         "opacity": 0.2,
         "showlegend": false,
         "type": "scattergeo"
        },
        {
         "hoverinfo": "skip",
         "lat": [
          22.5726723,
          11.6645348
         ],
         "line": {
          "color": "red",
          "width": 1
         },
         "lon": [
          88.3638815,
          92.7390448
         ],
         "mode": "lines",
         "opacity": 0.2,
         "showlegend": false,
         "type": "scattergeo"
        },
        {
         "hoverinfo": "skip",
         "lat": [
          23.0216238,
          25.3356491
         ],
         "line": {
          "color": "red",
          "width": 1
         },
         "lon": [
          72.5797068,
          83.0076292
         ],
         "mode": "lines",
         "opacity": 0.2,
         "showlegend": false,
         "type": "scattergeo"
        },
        {
         "hoverinfo": "skip",
         "lat": [
          30.72984395,
          19.0785451
         ],
         "line": {
          "color": "red",
          "width": 1
         },
         "lon": [
          76.78414567016054,
          72.878176
         ],
         "mode": "lines",
         "opacity": 0.2,
         "showlegend": false,
         "type": "scattergeo"
        },
        {
         "hoverinfo": "skip",
         "lat": [
          30.72984395,
          23.0216238
         ],
         "line": {
          "color": "red",
          "width": 1
         },
         "lon": [
          76.78414567016054,
          72.5797068
         ],
         "mode": "lines",
         "opacity": 0.2,
         "showlegend": false,
         "type": "scattergeo"
        },
        {
         "hoverinfo": "skip",
         "lat": [
          34.0747444,
          28.6517178
         ],
         "line": {
          "color": "red",
          "width": 1
         },
         "lon": [
          74.8204443,
          77.2219388
         ],
         "mode": "lines",
         "opacity": 0.2,
         "showlegend": false,
         "type": "scattergeo"
        },
        {
         "hoverinfo": "skip",
         "lat": [
          34.0747444,
          32.7185614
         ],
         "line": {
          "color": "red",
          "width": 1
         },
         "lon": [
          74.8204443,
          74.8580917
         ],
         "mode": "lines",
         "opacity": 0.2,
         "showlegend": false,
         "type": "scattergeo"
        },
        {
         "hoverinfo": "skip",
         "lat": [
          34.0747444,
          19.0785451
         ],
         "line": {
          "color": "red",
          "width": 1
         },
         "lon": [
          74.8204443,
          72.878176
         ],
         "mode": "lines",
         "opacity": 0.2,
         "showlegend": false,
         "type": "scattergeo"
        },
        {
         "hoverinfo": "skip",
         "lat": [
          13.0836939,
          19.0785451
         ],
         "line": {
          "color": "red",
          "width": 1
         },
         "lon": [
          80.270186,
          72.878176
         ],
         "mode": "lines",
         "opacity": 0.2,
         "showlegend": false,
         "type": "scattergeo"
        },
        {
         "hoverinfo": "skip",
         "lat": [
          26.4367824,
          11.8763836
         ],
         "line": {
          "color": "red",
          "width": 1
         },
         "lon": [
          50.1039991,
          75.3737973
         ],
         "mode": "lines",
         "opacity": 0.2,
         "showlegend": false,
         "type": "scattergeo"
        },
        {
         "hoverinfo": "skip",
         "lat": [
          30.3255646,
          19.0785451
         ],
         "line": {
          "color": "red",
          "width": 1
         },
         "lon": [
          78.0436813,
          72.878176
         ],
         "mode": "lines",
         "opacity": 0.2,
         "showlegend": false,
         "type": "scattergeo"
        },
        {
         "hoverinfo": "skip",
         "lat": [
          23.3700501,
          12.9767936
         ],
         "line": {
          "color": "red",
          "width": 1
         },
         "lon": [
          85.3250387,
          77.590082
         ],
         "mode": "lines",
         "opacity": 0.2,
         "showlegend": false,
         "type": "scattergeo"
        },
        {
         "hoverinfo": "skip",
         "lat": [
          34.0747444,
          30.72984395
         ],
         "line": {
          "color": "red",
          "width": 1
         },
         "lon": [
          74.8204443,
          76.78414567016054
         ],
         "mode": "lines",
         "opacity": 0.2,
         "showlegend": false,
         "type": "scattergeo"
        },
        {
         "hoverinfo": "skip",
         "lat": [
          12.9767936,
          26.9154576
         ],
         "line": {
          "color": "red",
          "width": 1
         },
         "lon": [
          77.590082,
          75.8189817
         ],
         "mode": "lines",
         "opacity": 0.2,
         "showlegend": false,
         "type": "scattergeo"
        },
        {
         "hoverinfo": "skip",
         "lat": [
          34.1642029,
          32.7185614
         ],
         "line": {
          "color": "red",
          "width": 1
         },
         "lon": [
          77.5848133,
          74.8580917
         ],
         "mode": "lines",
         "opacity": 0.2,
         "showlegend": false,
         "type": "scattergeo"
        },
        {
         "hoverinfo": "skip",
         "lat": [
          23.3700501,
          19.0785451
         ],
         "line": {
          "color": "red",
          "width": 1
         },
         "lon": [
          85.3250387,
          72.878176
         ],
         "mode": "lines",
         "opacity": 0.2,
         "showlegend": false,
         "type": "scattergeo"
        },
        {
         "hoverinfo": "skip",
         "lat": [
          26.9154576,
          19.0785451
         ],
         "line": {
          "color": "red",
          "width": 1
         },
         "lon": [
          75.8189817,
          72.878176
         ],
         "mode": "lines",
         "opacity": 0.2,
         "showlegend": false,
         "type": "scattergeo"
        },
        {
         "hoverinfo": "skip",
         "lat": [
          15.3004543,
          19.0785451
         ],
         "line": {
          "color": "red",
          "width": 1
         },
         "lon": [
          74.0855134,
          72.878176
         ],
         "mode": "lines",
         "opacity": 0.2,
         "showlegend": false,
         "type": "scattergeo"
        },
        {
         "hoverinfo": "skip",
         "lat": [
          22.5726723,
          19.0785451
         ],
         "line": {
          "color": "red",
          "width": 1
         },
         "lon": [
          88.3638815,
          72.878176
         ],
         "mode": "lines",
         "opacity": 0.2,
         "showlegend": false,
         "type": "scattergeo"
        },
        {
         "hoverinfo": "skip",
         "lat": [
          21.1498134,
          19.0785451
         ],
         "line": {
          "color": "red",
          "width": 1
         },
         "lon": [
          79.0820556,
          72.878176
         ],
         "mode": "lines",
         "opacity": 0.2,
         "showlegend": false,
         "type": "scattergeo"
        },
        {
         "hoverinfo": "skip",
         "lat": [
          25.6093239,
          19.0785451
         ],
         "line": {
          "color": "red",
          "width": 1
         },
         "lon": [
          85.1235252,
          72.878176
         ],
         "mode": "lines",
         "opacity": 0.2,
         "showlegend": false,
         "type": "scattergeo"
        },
        {
         "hoverinfo": "skip",
         "lat": [
          25.3356491,
          19.0785451
         ],
         "line": {
          "color": "red",
          "width": 1
         },
         "lon": [
          83.0076292,
          72.878176
         ],
         "mode": "lines",
         "opacity": 0.2,
         "showlegend": false,
         "type": "scattergeo"
        },
        {
         "hoverinfo": "skip",
         "lat": [
          12.9767936,
          21.1498134
         ],
         "line": {
          "color": "red",
          "width": 1
         },
         "lon": [
          77.590082,
          79.0820556
         ],
         "mode": "lines",
         "opacity": 0.2,
         "showlegend": false,
         "type": "scattergeo"
        },
        {
         "hoverinfo": "skip",
         "lat": [
          15.5937836,
          19.0785451
         ],
         "line": {
          "color": "red",
          "width": 1
         },
         "lon": [
          73.8126805,
          72.878176
         ],
         "mode": "lines",
         "opacity": 0.2,
         "showlegend": false,
         "type": "scattergeo"
        },
        {
         "hoverinfo": "skip",
         "lat": [
          15.5937836,
          12.9767936
         ],
         "line": {
          "color": "red",
          "width": 1
         },
         "lon": [
          73.8126805,
          77.590082
         ],
         "mode": "lines",
         "opacity": 0.2,
         "showlegend": false,
         "type": "scattergeo"
        },
        {
         "hoverinfo": "skip",
         "lat": [
          26.1805978,
          22.5726723
         ],
         "line": {
          "color": "red",
          "width": 1
         },
         "lon": [
          91.753943,
          88.3638815
         ],
         "mode": "lines",
         "opacity": 0.2,
         "showlegend": false,
         "type": "scattergeo"
        },
        {
         "hoverinfo": "skip",
         "lat": [
          22.5726723,
          28.6517178
         ],
         "line": {
          "color": "red",
          "width": 1
         },
         "lon": [
          88.3638815,
          77.2219388
         ],
         "mode": "lines",
         "opacity": 0.2,
         "showlegend": false,
         "type": "scattergeo"
        },
        {
         "hoverinfo": "skip",
         "lat": [
          17.38878595,
          23.0216238
         ],
         "line": {
          "color": "red",
          "width": 1
         },
         "lon": [
          78.46106473453146,
          72.5797068
         ],
         "mode": "lines",
         "opacity": 0.2,
         "showlegend": false,
         "type": "scattergeo"
        },
        {
         "hoverinfo": "skip",
         "lat": [
          26.9154576,
          12.9767936
         ],
         "line": {
          "color": "red",
          "width": 1
         },
         "lon": [
          75.8189817,
          77.590082
         ],
         "mode": "lines",
         "opacity": 0.2,
         "showlegend": false,
         "type": "scattergeo"
        },
        {
         "hoverinfo": "skip",
         "lat": [
          32.7185614,
          28.6517178
         ],
         "line": {
          "color": "red",
          "width": 1
         },
         "lon": [
          74.8580917,
          77.2219388
         ],
         "mode": "lines",
         "opacity": 0.2,
         "showlegend": false,
         "type": "scattergeo"
        },
        {
         "hoverinfo": "skip",
         "lat": [
          32.7185614,
          34.0747444
         ],
         "line": {
          "color": "red",
          "width": 1
         },
         "lon": [
          74.8580917,
          74.8204443
         ],
         "mode": "lines",
         "opacity": 0.2,
         "showlegend": false,
         "type": "scattergeo"
        },
        {
         "hoverinfo": "skip",
         "lat": [
          9.9674277,
          12.9767936
         ],
         "line": {
          "color": "red",
          "width": 1
         },
         "lon": [
          76.2454436,
          77.590082
         ],
         "mode": "lines",
         "opacity": 0.2,
         "showlegend": false,
         "type": "scattergeo"
        },
        {
         "hoverinfo": "skip",
         "lat": [
          12.9767936,
          25.3356491
         ],
         "line": {
          "color": "red",
          "width": 1
         },
         "lon": [
          77.590082,
          83.0076292
         ],
         "mode": "lines",
         "opacity": 0.2,
         "showlegend": false,
         "type": "scattergeo"
        },
        {
         "hoverinfo": "skip",
         "lat": [
          22.5726723,
          18.521428
         ],
         "line": {
          "color": "red",
          "width": 1
         },
         "lon": [
          88.3638815,
          73.8544541
         ],
         "mode": "lines",
         "opacity": 0.2,
         "showlegend": false,
         "type": "scattergeo"
        },
        {
         "hoverinfo": "skip",
         "lat": [
          29.2733964,
          19.0785451
         ],
         "line": {
          "color": "red",
          "width": 1
         },
         "lon": [
          47.4979476,
          72.878176
         ],
         "mode": "lines",
         "opacity": 0.2,
         "showlegend": false,
         "type": "scattergeo"
        },
        {
         "hoverinfo": "skip",
         "lat": [
          29.2733964,
          11.8763836
         ],
         "line": {
          "color": "red",
          "width": 1
         },
         "lon": [
          47.4979476,
          75.3737973
         ],
         "mode": "lines",
         "opacity": 0.2,
         "showlegend": false,
         "type": "scattergeo"
        },
        {
         "hoverinfo": "skip",
         "lat": [
          34.1642029,
          28.6517178
         ],
         "line": {
          "color": "red",
          "width": 1
         },
         "lon": [
          77.5848133,
          77.2219388
         ],
         "mode": "lines",
         "opacity": 0.2,
         "showlegend": false,
         "type": "scattergeo"
        },
        {
         "hoverinfo": "skip",
         "lat": [
          34.1642029,
          30.72984395
         ],
         "line": {
          "color": "red",
          "width": 1
         },
         "lon": [
          77.5848133,
          76.78414567016054
         ],
         "mode": "lines",
         "opacity": 0.2,
         "showlegend": false,
         "type": "scattergeo"
        },
        {
         "hoverinfo": "skip",
         "lat": [
          26.8381,
          23.0216238
         ],
         "line": {
          "color": "red",
          "width": 1
         },
         "lon": [
          80.9346001,
          72.5797068
         ],
         "mode": "lines",
         "opacity": 0.2,
         "showlegend": false,
         "type": "scattergeo"
        },
        {
         "hoverinfo": "skip",
         "lat": [
          26.8381,
          15.5937836
         ],
         "line": {
          "color": "red",
          "width": 1
         },
         "lon": [
          80.9346001,
          73.8126805
         ],
         "mode": "lines",
         "opacity": 0.2,
         "showlegend": false,
         "type": "scattergeo"
        },
        {
         "hoverinfo": "skip",
         "lat": [
          15.5937836,
          21.1498134
         ],
         "line": {
          "color": "red",
          "width": 1
         },
         "lon": [
          73.8126805,
          79.0820556
         ],
         "mode": "lines",
         "opacity": 0.2,
         "showlegend": false,
         "type": "scattergeo"
        },
        {
         "hoverinfo": "skip",
         "lat": [
          4.1779879,
          19.0785451
         ],
         "line": {
          "color": "red",
          "width": 1
         },
         "lon": [
          73.5107387,
          72.878176
         ],
         "mode": "lines",
         "opacity": 0.2,
         "showlegend": false,
         "type": "scattergeo"
        },
        {
         "hoverinfo": "skip",
         "lat": [
          4.1779879,
          28.6517178
         ],
         "line": {
          "color": "red",
          "width": 1
         },
         "lon": [
          73.5107387,
          77.2219388
         ],
         "mode": "lines",
         "opacity": 0.2,
         "showlegend": false,
         "type": "scattergeo"
        },
        {
         "hoverinfo": "skip",
         "lat": [
          4.1779879,
          12.9767936
         ],
         "line": {
          "color": "red",
          "width": 1
         },
         "lon": [
          73.5107387,
          77.590082
         ],
         "mode": "lines",
         "opacity": 0.2,
         "showlegend": false,
         "type": "scattergeo"
        },
        {
         "hoverinfo": "skip",
         "lat": [
          25.3356491,
          23.0216238
         ],
         "line": {
          "color": "red",
          "width": 1
         },
         "lon": [
          83.0076292,
          72.5797068
         ],
         "mode": "lines",
         "opacity": 0.2,
         "showlegend": false,
         "type": "scattergeo"
        },
        {
         "hoverinfo": "skip",
         "lat": [
          21.1498134,
          12.9767936
         ],
         "line": {
          "color": "red",
          "width": 1
         },
         "lon": [
          79.0820556,
          77.590082
         ],
         "mode": "lines",
         "opacity": 0.2,
         "showlegend": false,
         "type": "scattergeo"
        },
        {
         "hoverinfo": "skip",
         "lat": [
          25.3356491,
          12.9767936
         ],
         "line": {
          "color": "red",
          "width": 1
         },
         "lon": [
          83.0076292,
          77.590082
         ],
         "mode": "lines",
         "opacity": 0.2,
         "showlegend": false,
         "type": "scattergeo"
        },
        {
         "hoverinfo": "skip",
         "lat": [
          11.8763836,
          26.4367824
         ],
         "line": {
          "color": "red",
          "width": 1
         },
         "lon": [
          75.3737973,
          50.1039991
         ],
         "mode": "lines",
         "opacity": 0.2,
         "showlegend": false,
         "type": "scattergeo"
        },
        {
         "hoverinfo": "skip",
         "lat": [
          21.1498134,
          28.6517178
         ],
         "line": {
          "color": "red",
          "width": 1
         },
         "lon": [
          79.0820556,
          77.2219388
         ],
         "mode": "lines",
         "opacity": 0.2,
         "showlegend": false,
         "type": "scattergeo"
        },
        {
         "hoverinfo": "skip",
         "lat": [
          25.3356491,
          28.6517178
         ],
         "line": {
          "color": "red",
          "width": 1
         },
         "lon": [
          83.0076292,
          77.2219388
         ],
         "mode": "lines",
         "opacity": 0.2,
         "showlegend": false,
         "type": "scattergeo"
        },
        {
         "hoverinfo": "skip",
         "lat": [
          11.8763836,
          29.2733964
         ],
         "line": {
          "color": "red",
          "width": 1
         },
         "lon": [
          75.3737973,
          47.4979476
         ],
         "mode": "lines",
         "opacity": 0.2,
         "showlegend": false,
         "type": "scattergeo"
        },
        {
         "hoverinfo": "skip",
         "lat": [
          9.9674277,
          23.61515
         ],
         "line": {
          "color": "red",
          "width": 1
         },
         "lon": [
          76.2454436,
          58.5912467
         ],
         "mode": "lines",
         "opacity": 0.2,
         "showlegend": false,
         "type": "scattergeo"
        },
        {
         "hoverinfo": "skip",
         "lat": [
          13.0836939,
          11.6645348
         ],
         "line": {
          "color": "red",
          "width": 1
         },
         "lon": [
          80.270186,
          92.7390448
         ],
         "mode": "lines",
         "opacity": 0.2,
         "showlegend": false,
         "type": "scattergeo"
        },
        {
         "hoverinfo": "skip",
         "lat": [
          21.1498134,
          18.521428
         ],
         "line": {
          "color": "red",
          "width": 1
         },
         "lon": [
          79.0820556,
          73.8544541
         ],
         "mode": "lines",
         "opacity": 0.2,
         "showlegend": false,
         "type": "scattergeo"
        },
        {
         "hoverinfo": "skip",
         "lat": [
          23.61515,
          19.0785451
         ],
         "line": {
          "color": "red",
          "width": 1
         },
         "lon": [
          58.5912467,
          72.878176
         ],
         "mode": "lines",
         "opacity": 0.2,
         "showlegend": false,
         "type": "scattergeo"
        },
        {
         "hoverinfo": "skip",
         "lat": [
          23.61515,
          11.8763836
         ],
         "line": {
          "color": "red",
          "width": 1
         },
         "lon": [
          58.5912467,
          75.3737973
         ],
         "mode": "lines",
         "opacity": 0.2,
         "showlegend": false,
         "type": "scattergeo"
        },
        {
         "hoverinfo": "skip",
         "lat": [
          23.61515,
          9.9674277
         ],
         "line": {
          "color": "red",
          "width": 1
         },
         "lon": [
          58.5912467,
          76.2454436
         ],
         "mode": "lines",
         "opacity": 0.2,
         "showlegend": false,
         "type": "scattergeo"
        },
        {
         "hoverinfo": "skip",
         "lat": [
          18.521428,
          23.0216238
         ],
         "line": {
          "color": "red",
          "width": 1
         },
         "lon": [
          73.8544541,
          72.5797068
         ],
         "mode": "lines",
         "opacity": 0.2,
         "showlegend": false,
         "type": "scattergeo"
        },
        {
         "hoverinfo": "skip",
         "lat": [
          25.6093239,
          12.9767936
         ],
         "line": {
          "color": "red",
          "width": 1
         },
         "lon": [
          85.1235252,
          77.590082
         ],
         "mode": "lines",
         "opacity": 0.2,
         "showlegend": false,
         "type": "scattergeo"
        },
        {
         "hoverinfo": "skip",
         "lat": [
          25.6093239,
          23.0216238
         ],
         "line": {
          "color": "red",
          "width": 1
         },
         "lon": [
          85.1235252,
          72.5797068
         ],
         "mode": "lines",
         "opacity": 0.2,
         "showlegend": false,
         "type": "scattergeo"
        },
        {
         "hoverinfo": "skip",
         "lat": [
          7.9366015,
          19.0785451
         ],
         "line": {
          "color": "red",
          "width": 1
         },
         "lon": [
          98.3529292,
          72.878176
         ],
         "mode": "lines",
         "opacity": 0.2,
         "showlegend": false,
         "type": "scattergeo"
        },
        {
         "hoverinfo": "skip",
         "lat": [
          7.9366015,
          12.9767936
         ],
         "line": {
          "color": "red",
          "width": 1
         },
         "lon": [
          98.3529292,
          77.590082
         ],
         "mode": "lines",
         "opacity": 0.2,
         "showlegend": false,
         "type": "scattergeo"
        },
        {
         "hoverinfo": "skip",
         "lat": [
          7.9366015,
          28.6517178
         ],
         "line": {
          "color": "red",
          "width": 1
         },
         "lon": [
          98.3529292,
          77.2219388
         ],
         "mode": "lines",
         "opacity": 0.2,
         "showlegend": false,
         "type": "scattergeo"
        },
        {
         "hoverinfo": "skip",
         "lat": [
          11.6645348,
          22.5726723
         ],
         "line": {
          "color": "red",
          "width": 1
         },
         "lon": [
          92.7390448,
          88.3638815
         ],
         "mode": "lines",
         "opacity": 0.2,
         "showlegend": false,
         "type": "scattergeo"
        },
        {
         "hoverinfo": "skip",
         "lat": [
          11.6645348,
          12.9767936
         ],
         "line": {
          "color": "red",
          "width": 1
         },
         "lon": [
          92.7390448,
          77.590082
         ],
         "mode": "lines",
         "opacity": 0.2,
         "showlegend": false,
         "type": "scattergeo"
        },
        {
         "hoverinfo": "skip",
         "lat": [
          11.6645348,
          13.0836939
         ],
         "line": {
          "color": "red",
          "width": 1
         },
         "lon": [
          92.7390448,
          80.270186
         ],
         "mode": "lines",
         "opacity": 0.2,
         "showlegend": false,
         "type": "scattergeo"
        },
        {
         "hoverinfo": "skip",
         "lat": [
          24.4538352,
          19.0785451,
          28.6517178,
          11.8763836,
          23.0216238,
          22.5726723,
          15.3004543,
          26.8381,
          18.521428,
          17.38878595,
          12.9767936,
          30.72984395,
          31.6343083,
          26.6988847,
          26.1805978,
          13.7524938,
          25.6093239,
          23.3700501,
          9.9674277,
          34.0747444,
          13.0836939,
          26.4367824,
          30.3255646,
          34.1642029,
          26.9154576,
          21.1498134,
          25.3356491,
          15.5937836,
          32.7185614,
          29.2733964,
          4.1779879,
          23.61515,
          7.9366015,
          11.6645348,
          46.3144754
         ],
         "lon": [
          54.3774014,
          72.878176,
          77.2219388,
          75.3737973,
          72.5797068,
          88.3638815,
          74.0855134,
          80.9346001,
          73.8544541,
          78.46106473453146,
          77.590082,
          76.78414567016054,
          74.8736788,
          88.3200303,
          91.753943,
          100.4935089,
          85.1235252,
          85.3250387,
          76.2454436,
          74.8204443,
          80.270186,
          50.1039991,
          78.0436813,
          77.5848133,
          75.8189817,
          79.0820556,
          83.0076292,
          73.8126805,
          74.8580917,
          47.4979476,
          73.5107387,
          58.5912467,
          98.3529292,
          92.7390448,
          11.0480288
         ],
         "mode": "markers",
         "showlegend": false,
         "text": [
          "Abu Dhabi",
          "Mumbai",
          "Delhi",
          "Kannur",
          "Ahmedabad",
          "Kolkata",
          "Goa",
          "Lucknow",
          "Pune",
          "Hyderabad",
          "Bengaluru",
          "Chandigarh",
          "Amritsar",
          "Bagdogra",
          "Guwahati",
          "Bangkok",
          "Patna",
          "Ranchi",
          "Kochi",
          "Srinagar",
          "Chennai",
          "Dammam",
          "Dehra Dun",
          "Leh",
          "Jaipur",
          "Nagpur",
          "Varanasi",
          "Goa-New Goa",
          "Jammu",
          "Kuwait",
          "Male",
          "Muscat",
          "Phuket",
          "Port Blair",
          "nan"
         ],
         "type": "scattergeo"
        },
        {
         "lat": [
          24.4538352,
          19.0785451,
          28.6517178,
          11.8763836,
          23.0216238,
          22.5726723,
          15.3004543,
          26.8381,
          18.521428,
          17.38878595,
          12.9767936,
          30.72984395,
          31.6343083,
          26.6988847,
          26.1805978,
          13.7524938,
          25.6093239,
          23.3700501,
          9.9674277,
          34.0747444,
          13.0836939,
          26.4367824,
          30.3255646,
          34.1642029,
          26.9154576,
          21.1498134,
          25.3356491,
          15.5937836,
          32.7185614,
          29.2733964,
          4.1779879,
          23.61515,
          7.9366015,
          11.6645348,
          46.3144754
         ],
         "lon": [
          54.3774014,
          72.878176,
          77.2219388,
          75.3737973,
          72.5797068,
          88.3638815,
          74.0855134,
          80.9346001,
          73.8544541,
          78.46106473453146,
          77.590082,
          76.78414567016054,
          74.8736788,
          88.3200303,
          91.753943,
          100.4935089,
          85.1235252,
          85.3250387,
          76.2454436,
          74.8204443,
          80.270186,
          50.1039991,
          78.0436813,
          77.5848133,
          75.8189817,
          79.0820556,
          83.0076292,
          73.8126805,
          74.8580917,
          47.4979476,
          73.5107387,
          58.5912467,
          98.3529292,
          92.7390448,
          11.0480288
         ],
         "mode": "text",
         "text": [
          "Abu Dhabi",
          "Mumbai",
          "Delhi",
          "Kannur",
          "Ahmedabad",
          "Kolkata",
          "Goa",
          "Lucknow",
          "Pune",
          "Hyderabad",
          "Bengaluru",
          "Chandigarh",
          "Amritsar",
          "Bagdogra",
          "Guwahati",
          "Bangkok",
          "Patna",
          "Ranchi",
          "Kochi",
          "Srinagar",
          "Chennai",
          "Dammam",
          "Dehra Dun",
          "Leh",
          "Jaipur",
          "Nagpur",
          "Varanasi",
          "Goa-New Goa",
          "Jammu",
          "Kuwait",
          "Male",
          "Muscat",
          "Phuket",
          "Port Blair",
          "nan"
         ],
         "textposition": "top center",
         "type": "scattergeo"
        }
       ],
       "layout": {
        "geo": {
         "center": {
          "lat": 20,
          "lon": 80
         },
         "projection": {
          "scale": 5
         }
        },
        "height": 800,
        "template": {
         "data": {
          "bar": [
           {
            "error_x": {
             "color": "#2a3f5f"
            },
            "error_y": {
             "color": "#2a3f5f"
            },
            "marker": {
             "line": {
              "color": "#E5ECF6",
              "width": 0.5
             },
             "pattern": {
              "fillmode": "overlay",
              "size": 10,
              "solidity": 0.2
             }
            },
            "type": "bar"
           }
          ],
          "barpolar": [
           {
            "marker": {
             "line": {
              "color": "#E5ECF6",
              "width": 0.5
             },
             "pattern": {
              "fillmode": "overlay",
              "size": 10,
              "solidity": 0.2
             }
            },
            "type": "barpolar"
           }
          ],
          "carpet": [
           {
            "aaxis": {
             "endlinecolor": "#2a3f5f",
             "gridcolor": "white",
             "linecolor": "white",
             "minorgridcolor": "white",
             "startlinecolor": "#2a3f5f"
            },
            "baxis": {
             "endlinecolor": "#2a3f5f",
             "gridcolor": "white",
             "linecolor": "white",
             "minorgridcolor": "white",
             "startlinecolor": "#2a3f5f"
            },
            "type": "carpet"
           }
          ],
          "choropleth": [
           {
            "colorbar": {
             "outlinewidth": 0,
             "ticks": ""
            },
            "type": "choropleth"
           }
          ],
          "contour": [
           {
            "colorbar": {
             "outlinewidth": 0,
             "ticks": ""
            },
            "colorscale": [
             [
              0,
              "#0d0887"
             ],
             [
              0.1111111111111111,
              "#46039f"
             ],
             [
              0.2222222222222222,
              "#7201a8"
             ],
             [
              0.3333333333333333,
              "#9c179e"
             ],
             [
              0.4444444444444444,
              "#bd3786"
             ],
             [
              0.5555555555555556,
              "#d8576b"
             ],
             [
              0.6666666666666666,
              "#ed7953"
             ],
             [
              0.7777777777777778,
              "#fb9f3a"
             ],
             [
              0.8888888888888888,
              "#fdca26"
             ],
             [
              1,
              "#f0f921"
             ]
            ],
            "type": "contour"
           }
          ],
          "contourcarpet": [
           {
            "colorbar": {
             "outlinewidth": 0,
             "ticks": ""
            },
            "type": "contourcarpet"
           }
          ],
          "heatmap": [
           {
            "colorbar": {
             "outlinewidth": 0,
             "ticks": ""
            },
            "colorscale": [
             [
              0,
              "#0d0887"
             ],
             [
              0.1111111111111111,
              "#46039f"
             ],
             [
              0.2222222222222222,
              "#7201a8"
             ],
             [
              0.3333333333333333,
              "#9c179e"
             ],
             [
              0.4444444444444444,
              "#bd3786"
             ],
             [
              0.5555555555555556,
              "#d8576b"
             ],
             [
              0.6666666666666666,
              "#ed7953"
             ],
             [
              0.7777777777777778,
              "#fb9f3a"
             ],
             [
              0.8888888888888888,
              "#fdca26"
             ],
             [
              1,
              "#f0f921"
             ]
            ],
            "type": "heatmap"
           }
          ],
          "heatmapgl": [
           {
            "colorbar": {
             "outlinewidth": 0,
             "ticks": ""
            },
            "colorscale": [
             [
              0,
              "#0d0887"
             ],
             [
              0.1111111111111111,
              "#46039f"
             ],
             [
              0.2222222222222222,
              "#7201a8"
             ],
             [
              0.3333333333333333,
              "#9c179e"
             ],
             [
              0.4444444444444444,
              "#bd3786"
             ],
             [
              0.5555555555555556,
              "#d8576b"
             ],
             [
              0.6666666666666666,
              "#ed7953"
             ],
             [
              0.7777777777777778,
              "#fb9f3a"
             ],
             [
              0.8888888888888888,
              "#fdca26"
             ],
             [
              1,
              "#f0f921"
             ]
            ],
            "type": "heatmapgl"
           }
          ],
          "histogram": [
           {
            "marker": {
             "pattern": {
              "fillmode": "overlay",
              "size": 10,
              "solidity": 0.2
             }
            },
            "type": "histogram"
           }
          ],
          "histogram2d": [
           {
            "colorbar": {
             "outlinewidth": 0,
             "ticks": ""
            },
            "colorscale": [
             [
              0,
              "#0d0887"
             ],
             [
              0.1111111111111111,
              "#46039f"
             ],
             [
              0.2222222222222222,
              "#7201a8"
             ],
             [
              0.3333333333333333,
              "#9c179e"
             ],
             [
              0.4444444444444444,
              "#bd3786"
             ],
             [
              0.5555555555555556,
              "#d8576b"
             ],
             [
              0.6666666666666666,
              "#ed7953"
             ],
             [
              0.7777777777777778,
              "#fb9f3a"
             ],
             [
              0.8888888888888888,
              "#fdca26"
             ],
             [
              1,
              "#f0f921"
             ]
            ],
            "type": "histogram2d"
           }
          ],
          "histogram2dcontour": [
           {
            "colorbar": {
             "outlinewidth": 0,
             "ticks": ""
            },
            "colorscale": [
             [
              0,
              "#0d0887"
             ],
             [
              0.1111111111111111,
              "#46039f"
             ],
             [
              0.2222222222222222,
              "#7201a8"
             ],
             [
              0.3333333333333333,
              "#9c179e"
             ],
             [
              0.4444444444444444,
              "#bd3786"
             ],
             [
              0.5555555555555556,
              "#d8576b"
             ],
             [
              0.6666666666666666,
              "#ed7953"
             ],
             [
              0.7777777777777778,
              "#fb9f3a"
             ],
             [
              0.8888888888888888,
              "#fdca26"
             ],
             [
              1,
              "#f0f921"
             ]
            ],
            "type": "histogram2dcontour"
           }
          ],
          "mesh3d": [
           {
            "colorbar": {
             "outlinewidth": 0,
             "ticks": ""
            },
            "type": "mesh3d"
           }
          ],
          "parcoords": [
           {
            "line": {
             "colorbar": {
              "outlinewidth": 0,
              "ticks": ""
             }
            },
            "type": "parcoords"
           }
          ],
          "pie": [
           {
            "automargin": true,
            "type": "pie"
           }
          ],
          "scatter": [
           {
            "fillpattern": {
             "fillmode": "overlay",
             "size": 10,
             "solidity": 0.2
            },
            "type": "scatter"
           }
          ],
          "scatter3d": [
           {
            "line": {
             "colorbar": {
              "outlinewidth": 0,
              "ticks": ""
             }
            },
            "marker": {
             "colorbar": {
              "outlinewidth": 0,
              "ticks": ""
             }
            },
            "type": "scatter3d"
           }
          ],
          "scattercarpet": [
           {
            "marker": {
             "colorbar": {
              "outlinewidth": 0,
              "ticks": ""
             }
            },
            "type": "scattercarpet"
           }
          ],
          "scattergeo": [
           {
            "marker": {
             "colorbar": {
              "outlinewidth": 0,
              "ticks": ""
             }
            },
            "type": "scattergeo"
           }
          ],
          "scattergl": [
           {
            "marker": {
             "colorbar": {
              "outlinewidth": 0,
              "ticks": ""
             }
            },
            "type": "scattergl"
           }
          ],
          "scattermapbox": [
           {
            "marker": {
             "colorbar": {
              "outlinewidth": 0,
              "ticks": ""
             }
            },
            "type": "scattermapbox"
           }
          ],
          "scatterpolar": [
           {
            "marker": {
             "colorbar": {
              "outlinewidth": 0,
              "ticks": ""
             }
            },
            "type": "scatterpolar"
           }
          ],
          "scatterpolargl": [
           {
            "marker": {
             "colorbar": {
              "outlinewidth": 0,
              "ticks": ""
             }
            },
            "type": "scatterpolargl"
           }
          ],
          "scatterternary": [
           {
            "marker": {
             "colorbar": {
              "outlinewidth": 0,
              "ticks": ""
             }
            },
            "type": "scatterternary"
           }
          ],
          "surface": [
           {
            "colorbar": {
             "outlinewidth": 0,
             "ticks": ""
            },
            "colorscale": [
             [
              0,
              "#0d0887"
             ],
             [
              0.1111111111111111,
              "#46039f"
             ],
             [
              0.2222222222222222,
              "#7201a8"
             ],
             [
              0.3333333333333333,
              "#9c179e"
             ],
             [
              0.4444444444444444,
              "#bd3786"
             ],
             [
              0.5555555555555556,
              "#d8576b"
             ],
             [
              0.6666666666666666,
              "#ed7953"
             ],
             [
              0.7777777777777778,
              "#fb9f3a"
             ],
             [
              0.8888888888888888,
              "#fdca26"
             ],
             [
              1,
              "#f0f921"
             ]
            ],
            "type": "surface"
           }
          ],
          "table": [
           {
            "cells": {
             "fill": {
              "color": "#EBF0F8"
             },
             "line": {
              "color": "white"
             }
            },
            "header": {
             "fill": {
              "color": "#C8D4E3"
             },
             "line": {
              "color": "white"
             }
            },
            "type": "table"
           }
          ]
         },
         "layout": {
          "annotationdefaults": {
           "arrowcolor": "#2a3f5f",
           "arrowhead": 0,
           "arrowwidth": 1
          },
          "autotypenumbers": "strict",
          "coloraxis": {
           "colorbar": {
            "outlinewidth": 0,
            "ticks": ""
           }
          },
          "colorscale": {
           "diverging": [
            [
             0,
             "#8e0152"
            ],
            [
             0.1,
             "#c51b7d"
            ],
            [
             0.2,
             "#de77ae"
            ],
            [
             0.3,
             "#f1b6da"
            ],
            [
             0.4,
             "#fde0ef"
            ],
            [
             0.5,
             "#f7f7f7"
            ],
            [
             0.6,
             "#e6f5d0"
            ],
            [
             0.7,
             "#b8e186"
            ],
            [
             0.8,
             "#7fbc41"
            ],
            [
             0.9,
             "#4d9221"
            ],
            [
             1,
             "#276419"
            ]
           ],
           "sequential": [
            [
             0,
             "#0d0887"
            ],
            [
             0.1111111111111111,
             "#46039f"
            ],
            [
             0.2222222222222222,
             "#7201a8"
            ],
            [
             0.3333333333333333,
             "#9c179e"
            ],
            [
             0.4444444444444444,
             "#bd3786"
            ],
            [
             0.5555555555555556,
             "#d8576b"
            ],
            [
             0.6666666666666666,
             "#ed7953"
            ],
            [
             0.7777777777777778,
             "#fb9f3a"
            ],
            [
             0.8888888888888888,
             "#fdca26"
            ],
            [
             1,
             "#f0f921"
            ]
           ],
           "sequentialminus": [
            [
             0,
             "#0d0887"
            ],
            [
             0.1111111111111111,
             "#46039f"
            ],
            [
             0.2222222222222222,
             "#7201a8"
            ],
            [
             0.3333333333333333,
             "#9c179e"
            ],
            [
             0.4444444444444444,
             "#bd3786"
            ],
            [
             0.5555555555555556,
             "#d8576b"
            ],
            [
             0.6666666666666666,
             "#ed7953"
            ],
            [
             0.7777777777777778,
             "#fb9f3a"
            ],
            [
             0.8888888888888888,
             "#fdca26"
            ],
            [
             1,
             "#f0f921"
            ]
           ]
          },
          "colorway": [
           "#636efa",
           "#EF553B",
           "#00cc96",
           "#ab63fa",
           "#FFA15A",
           "#19d3f3",
           "#FF6692",
           "#B6E880",
           "#FF97FF",
           "#FECB52"
          ],
          "font": {
           "color": "#2a3f5f"
          },
          "geo": {
           "bgcolor": "white",
           "lakecolor": "white",
           "landcolor": "#E5ECF6",
           "showlakes": true,
           "showland": true,
           "subunitcolor": "white"
          },
          "hoverlabel": {
           "align": "left"
          },
          "hovermode": "closest",
          "mapbox": {
           "style": "light"
          },
          "paper_bgcolor": "white",
          "plot_bgcolor": "#E5ECF6",
          "polar": {
           "angularaxis": {
            "gridcolor": "white",
            "linecolor": "white",
            "ticks": ""
           },
           "bgcolor": "#E5ECF6",
           "radialaxis": {
            "gridcolor": "white",
            "linecolor": "white",
            "ticks": ""
           }
          },
          "scene": {
           "xaxis": {
            "backgroundcolor": "#E5ECF6",
            "gridcolor": "white",
            "gridwidth": 2,
            "linecolor": "white",
            "showbackground": true,
            "ticks": "",
            "zerolinecolor": "white"
           },
           "yaxis": {
            "backgroundcolor": "#E5ECF6",
            "gridcolor": "white",
            "gridwidth": 2,
            "linecolor": "white",
            "showbackground": true,
            "ticks": "",
            "zerolinecolor": "white"
           },
           "zaxis": {
            "backgroundcolor": "#E5ECF6",
            "gridcolor": "white",
            "gridwidth": 2,
            "linecolor": "white",
            "showbackground": true,
            "ticks": "",
            "zerolinecolor": "white"
           }
          },
          "shapedefaults": {
           "line": {
            "color": "#2a3f5f"
           }
          },
          "ternary": {
           "aaxis": {
            "gridcolor": "white",
            "linecolor": "white",
            "ticks": ""
           },
           "baxis": {
            "gridcolor": "white",
            "linecolor": "white",
            "ticks": ""
           },
           "bgcolor": "#E5ECF6",
           "caxis": {
            "gridcolor": "white",
            "linecolor": "white",
            "ticks": ""
           }
          },
          "title": {
           "x": 0.05
          },
          "xaxis": {
           "automargin": true,
           "gridcolor": "white",
           "linecolor": "white",
           "ticks": "",
           "title": {
            "standoff": 15
           },
           "zerolinecolor": "white",
           "zerolinewidth": 2
          },
          "yaxis": {
           "automargin": true,
           "gridcolor": "white",
           "linecolor": "white",
           "ticks": "",
           "title": {
            "standoff": 15
           },
           "zerolinecolor": "white",
           "zerolinewidth": 2
          }
         }
        },
        "title": {
         "text": "Connection graph of Go Air domestic flights of India"
        }
       }
      }
     },
     "metadata": {},
     "output_type": "display_data"
    }
   ],
   "source": [
    "import plotly.express as px\n",
    "import plotly.graph_objects as go\n",
    "\n",
    "fig = go.Figure()\n",
    "\n",
    "for i in range(len(preprocessed_data)):\n",
    "    fig.add_trace(\n",
    "        go.Scattergeo(\n",
    "            lon = [city_coord[preprocessed_data['Origin'][i]][1], city_coord[preprocessed_data['Destination'][i]][1]],\n",
    "            lat = [city_coord[preprocessed_data['Origin'][i]][0], city_coord[preprocessed_data['Destination'][i]][0]],\n",
    "            mode = 'lines',\n",
    "            line = dict(width = 1,color = 'red'),\n",
    "            opacity = 0.2,\n",
    "            hoverinfo = 'skip',\n",
    "            showlegend = False,\n",
    "        )\n",
    "    )\n",
    "\n",
    "fig.add_trace(go.Scattergeo(\n",
    "    lon = [i[1] for i in city_coord.values()],\n",
    "    lat = [i[0] for i in city_coord.values()],\n",
    "    text = list(city_coord.keys()),\n",
    "    mode = 'markers',\n",
    "    hoverinfo = 'skip',\n",
    "    showlegend = False,\n",
    "    ))\n",
    "\n",
    "fig.add_trace(go.Scattergeo(\n",
    "    lon = [i[1] for i in city_coord.values()],\n",
    "    lat = [i[0] for i in city_coord.values()],\n",
    "    text = list(city_coord.keys()),\n",
    "    textposition = 'top center',\n",
    "    mode = 'text',\n",
    "    ))\n",
    "\n",
    "fig.update_layout(\n",
    "    # autosize=True,\n",
    "    title = 'Connection graph of Go Air domestic flights of India',\n",
    "    height=800,\n",
    "    geo=dict(\n",
    "        center=dict(\n",
    "            lat=20, \n",
    "            lon=80\n",
    "        ),\n",
    "        projection_scale=5,\n",
    "    ),\n",
    ")\n",
    "\n",
    "fig.show()"
   ]
  },
  {
   "cell_type": "code",
   "execution_count": null,
   "metadata": {},
   "outputs": [],
   "source": []
  }
 ],
 "metadata": {
  "kernelspec": {
   "display_name": "base",
   "language": "python",
   "name": "python3"
  },
  "language_info": {
   "codemirror_mode": {
    "name": "ipython",
    "version": 3
   },
   "file_extension": ".py",
   "mimetype": "text/x-python",
   "name": "python",
   "nbconvert_exporter": "python",
   "pygments_lexer": "ipython3",
   "version": "3.7.3"
  },
  "orig_nbformat": 4,
  "vscode": {
   "interpreter": {
    "hash": "d1cbd4043ec2cfa6cb92ccfad0aa6f6fe2d16c65c0fac29e476e702ac1d2a164"
   }
  }
 },
 "nbformat": 4,
 "nbformat_minor": 2
}
